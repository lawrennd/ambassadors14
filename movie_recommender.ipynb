{
 "metadata": {
  "name": "",
  "signature": "sha256:1f4458c061227cf3f5f2db96be84b1a609f71be214e9e4fa76b348f9ac7d324c"
 },
 "nbformat": 3,
 "nbformat_minor": 0,
 "worksheets": [
  {
   "cells": [
    {
     "cell_type": "markdown",
     "metadata": {},
     "source": [
      "# Learning from Data\n",
      "### University of Sheffield Computer Science Ambassadors' Scheme\n",
      "\n",
      "### Neil D. Lawrence 8th October 2014\n",
      "\n",
      "This session is about 'learning from data'. How do we take the information on the internet and make sense of it. The answer, as you might expect, is using computers and mathematics. Luckily we also have a suite of tools to help. This tool is a way of programming in python that really facilitates *interaction* with data. It is known as the \"IPython Notebook\", or more recently as the \"Jupyter Project\".\n",
      "\n",
      "### Welcome to the IPython Notebook\n",
      "\n",
      "The notebook is a great way of interacting with computers. In particular it allows me to integrate text descriptions, maths and code all together in the same place. For me, that's what my research is all about. I try to take concepts that people can describe, then I try to capture the essence of the concept in a *mathematical* model. Then I try and implement the model on a computer, often combining it with data, to try and do something fun. Today's fun thing is going to be *recommender systems*.\n",
      "\n",
      "## Recommender Systems\n",
      "\n",
      "Do you watch Netflix? Have you ever rated a movie there? Do you buy books or electronics on Amazon? How about grocery shopping? All these companies want you to buy more, watch more or listen more. The best way of getting you to do that is by showing you more of what you like. But what do you like? What sort of person are you? Can the computer tell? It can certainly try! And it does so with a \"Recommender System\".\n",
      "\n",
      "## What is a Recommender System?\n",
      "\n",
      "To understand you the computer has to turn you into a series of numbers (but don't worry, it's not painful), to perform computations we need numbers. How many numbers does it need to describe you? How many numbers does it take to summarize anyone's tastes in movies, music or groceries? These are open questions that can be difficult to answer. It depends how much we want to know about you: if it's just your taste in film and clothes that's one thing. If we want to summarize your state of health, that's another. Apparently a three year old's brain has $10^{15}$ synapses in it: a synapse governs the connection between neurons. It's quite possible that each synapse needs a number to represent it. So in the end it takes a lot of numbers to represent just the brain of a human, and that's before we start talking about what's going on in each of your cells.\n",
      "\n",
      "We won't try and represent all this, instead we will perform a 'compression' on you. We will try and represent your opinions about films into just a couple of numbers. We are going to work with movies, and just for fun, we thought we'd get you to rate some movies and try and build a recommendation system.\n",
      "\n",
      "## Preparation\n",
      "\n",
      "First things first. You need to have a gmail account you can use (we're going to use this to find out what movies you like). And I need to know what your gmail account is, so that I can share some movie information with you for you to rate.\n",
      "\n",
      "Please click on [https://docs.google.com/forms/d/1NaslH_3nlGcPDCkzoqTJhzLO-KrxYmRl5aCyBhM6eD8/viewform](this link) and fill in the form to record your details. \n",
      "\n",
      "Once we have your details, the next thing we need to do is download some data! The next bit of software downloads some of our code from a *version control system* called `github`. Github is a special place for keeping software, that allows us to update the software and keep track of changes. Every time I make a change to the software, I update it on github and share it with my friends and colleagues. You will need to run the code in the next box. To do this you need to click on the box and press either `CTRL-Enter` or `SHIFT-Enter` (see if you can see what the difference is between these two commands). "
     ]
    },
    {
     "cell_type": "code",
     "collapsed": false,
     "input": [
      "# this python code downloads some of my research groups software from the web\n",
      "\n",
      "# first use the urllib library to download the zip file from github.\n",
      "import urllib\n",
      "urllib.urlretrieve('https://github.com/sods/ods/archive/master.zip', 'master.zip')\n",
      "\n",
      "# now use the zip file library to unzip the software\n",
      "import zipfile\n",
      "zip = zipfile.ZipFile('./master.zip', 'r')\n",
      "for name in zip.namelist():\n",
      "    zip.extract(name, '.')\n",
      "\n",
      "# finally use the sys library to add the location of the new software to the python \n",
      "# path, where it will be found by the computer.add the module location to the python path.    \n",
      "import sys\n",
      "sys.path.append(\"./ods-master/\")"
     ],
     "language": "python",
     "metadata": {},
     "outputs": [],
     "prompt_number": 1
    },
    {
     "cell_type": "markdown",
     "metadata": {},
     "source": [
      "Note that python, like many other programs has a lot of software libraries for doing different things. Here we used three separate libraries (which we loaded into the computer with the `import` commands) to perform three different jobs. And the software we downloaded will also be available in the form of ... you guessed it ... a library. In this case a library that we've written in Sheffield called `pods`. Let's load in that library and use it to download some data for analysis. Remember, the next step won't work unless you've run the code for the previous! "
     ]
    },
    {
     "cell_type": "markdown",
     "metadata": {},
     "source": [
      "### Download the Movie Body Counts Data\n",
      "\n",
      "We are going to download some data on 'movie body counts'. I like this data, not because of all the bodies, but because there is so much you can do with it. However, I wasn't the first to get this data set together. That was done by some [researchers at NJIT](http://www.theswarmlab.com/r-vs-python-round-2-22/) who combined data from the [IMDb website](http://www.imdb.com) and [www.MovieBodyCounts.com](http://www.MovieBodyCounts.com). Let's pause a minute and reflect on that. The data set was created by someone else, who themselves built on the work of many others. If I could summarize the internet in one idea, that might be it. The internet is just a really great way of sharing stuff really quickly. And if someone does something cool (like IMDb) then it's easy for someone else to build something on top of it. And it all works best when we are happy to share things. So openness is good! However, openness is not always good and we'll discuss some of the downsides later on. I'm getting you all to share information with me about what movies you like. That's personal information, it's probably not the most *sensitive* personal information, but it's personal all the same. That means I have to be careful how I handle it. When you share things on the internet, you are giving something away, although very often you will get something back (like a cool social network, or a neat recommender system). But you always have to think about how good a deal you are getting. Anyway, for the moment let's just enjoy all that sharing that others have done and download the 'Movie Body Count' data set. \n",
      "\n",
      "When you press `SHIFT-enter` or `CTRL-enter` for the next part you will get told that you are about to download data from a github repository. This is just done to give credit to the people who kindly shared their data with us (giving credit to people makes them happy to continue sharing, so this is a very important thing to do). You can have a quick read of what it says, and then just type `yes` and press `enter`. It will only do this the first time you download the data to this computer, after that it is saved on your disk."
     ]
    },
    {
     "cell_type": "code",
     "collapsed": false,
     "input": [
      "import pods\n",
      "d = pods.datasets.movie_body_count()\n",
      "movies = d['Y']"
     ],
     "language": "python",
     "metadata": {},
     "outputs": [],
     "prompt_number": 2
    },
    {
     "cell_type": "markdown",
     "metadata": {},
     "source": [
      "## Playing with the Data\n",
      "\n",
      "Now we definitely can't download some data about movie body counts without having a bit of a play with the data. And in fact, that's exactly what the IPython notebook is good for. Talking and thinking about data is all very well, but there is no substitute for getting a feel for the data by plotting and exploring the data.\n",
      "\n",
      "We've used a special `python` data library called `pandas` for storing the data. That means we can refer to it in some neat ways:"
     ]
    },
    {
     "cell_type": "code",
     "collapsed": false,
     "input": [
      "# this command makes plots we create appear in the notebook (rather than a separate window)\n",
      "%matplotlib inline\n",
      "# this library is for plotting, we use it to create a scatter plot of 'body count' per film per year.\n",
      "import pylab as plt\n",
      "fig, ax = plt.subplots(figsize=(8,8)) # create an axis to put the plot on.\n",
      "ax.plot(movies.Year, movies.Body_Count, 'ro') # plot the bodies vs the year.\n",
      "plt.xlabel('year')   # always label your axes!\n",
      "plt.ylabel('body count')\n",
      "plt.title('Deaths in Films from 1949 to 2009')"
     ],
     "language": "python",
     "metadata": {},
     "outputs": [
      {
       "metadata": {},
       "output_type": "pyout",
       "prompt_number": 3,
       "text": [
        "<matplotlib.text.Text at 0x10e939f90>"
       ]
      },
      {
       "metadata": {},
       "output_type": "display_data",
       "png": "[encoded data removed]",
       "text": [
        "<matplotlib.figure.Figure at 0x10410c9d0>"
       ]
      }
     ],
     "prompt_number": 3
    },
    {
     "cell_type": "markdown",
     "metadata": {},
     "source": [
      "Good heavens that's ugly! Not the fact that so many people are dieing in the films, but the fact that so much of the data is squashed down at the bottom of the y axis. That's because in one film a whopping 827 people seem to have died (can you guess what film is that?). When you see data like this one solution is to plot the *logarithm* of the deaths. Have a think about why this might be a good idea (hint it's because things get better ... not worse ... but *why* do they get better?). Let's plot it again, but with log deaths on the $y$ axis."
     ]
    },
    {
     "cell_type": "code",
     "collapsed": false,
     "input": [
      "import numpy as np\n",
      "fig, ax = plt.subplots(figsize=(8,8)) # create an axis to put the plot on.\n",
      "ax.plot(movies.Year, np.log10(movies.Body_Count), 'ro') # plot the bodies vs the year.\n",
      "plt.xlabel('year')   # always label your axes!\n",
      "plt.ylabel('log(body count)')\n",
      "plt.title('Deaths in Films from 1949 to 2009')"
     ],
     "language": "python",
     "metadata": {},
     "outputs": [
      {
       "metadata": {},
       "output_type": "pyout",
       "prompt_number": 4,
       "text": [
        "<matplotlib.text.Text at 0x10dfec4d0>"
       ]
      },
      {
       "metadata": {},
       "output_type": "display_data",
       "png": "[encoded data removed]",
       "text": [
        "<matplotlib.figure.Figure at 0x10dfcb410>"
       ]
      }
     ],
     "prompt_number": 4
    },
    {
     "cell_type": "markdown",
     "metadata": {},
     "source": [
      "That's better! Note that whilst *before* it looked like the average number of deaths in films may have been going up, now it doesn't seem to be the case, it just looks like we have *more* films being made today than in 1949, but when we look at the average of the logarithm over time, it looks like it might be just about constant (it's actually hard to tell ... but I'm not sure I'd bet either way). This can be *very* important. These are just film deaths, but we might be looking at real deaths due to a new disease. Understanding if the disease is on the increase or if it's just a population increase is an important distincation. \n",
      "\n",
      "You can use the box below to have a bit of a play with the data. There are other snippets of information about the film available, you can try `movies.columns` to see what they are. Then you can try `movies.Director`, `movies.IMDB_Rating`, `movies.Length_Minutes`. Do you think you can manage to plot the IMDb rating against the movie length and see if you can find any correlation? How about movie length and body count? You can cut and paste from the examples above into the box below. "
     ]
    },
    {
     "cell_type": "code",
     "collapsed": false,
     "input": [],
     "language": "python",
     "metadata": {},
     "outputs": [],
     "prompt_number": 4
    },
    {
     "cell_type": "markdown",
     "metadata": {},
     "source": [
      "## Recommendation in Numbers\n",
      "\n",
      "Before we got distracted counting bodies, I said that we need to reduce everything to numbers for recommendations on the computer. Let's think about what those numbers could be. A recommender system aims to make suggestions for *items* (films, books, music, groceries) given what it knows about *users'* tastes. The recommendation engine needs to represent the *taste* of all the users and the *characteristics* of each object. That is what our numbers should do.\n",
      "\n",
      "One way for organizing objects is to place related things close together. You can spend a lot of time doing this when you are supposed to be revising. It's called tidying up. Tidying up can be quite important, for example in a library we try and put books that are on related topics near to each other on the shelves. One system for doing this is known as [Dewey Decimal Classification](http://en.wikipedia.org/wiki/Dewey_Decimal_Classification). In the Dewey Decimal Classification system (which dates from 1876) each subject is given a number (in fact it's a decimal number---no surprises there!). For example the fields of *Sciences* and *Mathematics* are all given numbers starting in the 500s. Because computers weren't around in 1876 (well a man called Charles Babbage was toying with the idea ... and a lady called Ada Lovelace was even thinking about programming languages) ... anyway as I was saying, because computers weren't around in 1876 they didn't get a number so they ended up being given numbers staring with 004 ... so for example works on the 'mathematical principles' of Computer science are given the series 004.0151 (which we might normally write as 4.0151, but when you think about it we could equally write 004.0151). Whilst it's a *classification* system for splitting books into groups (this is sometimes called a *taxonomy*) the books in the system are also normally laid out in the same order as the numbers. Ah ... back to the point numbers. \n",
      "\n",
      "So in the Dewey Decimal system we might now expect that neighbouring numbers represent books that are *related* to each other in subject. That seems to be exactly what we want for our recommender system! Could we somehow represent each film's subject according to a number? \n",
      "\n",
      "The problem here is that we are representing it with only *one* number, a so called *one* dimensional representation of the system. Actually a *one* dimensional representation of a subject can be very awkward. To see this, let's have another think about the Dewey Decimal system. However, this time we can think about subjects which have numbers in the 900s. By the way, I'm not an expert on the Dewey Decimal system, I just read the wikipedia page on it and then found a list of the numbers from  [Nova Southeastern University](http://www.nova.edu/library/help/misc/lc_dewey/dewey900.html#40) ... I may be a bit geeky, but memorizing the Dewey Decimal numbers is a step too far for even me (and don't memorize $\\pi$ either, [memorize $\\tau$ instead](http://www.tauday.com/) ...).\n",
      "\n",
      "Anway, back to those Dewey decimals ... if we look at the list for the 900s from the link above, we see that whilst the ordering for places is somewhat sensible, it is also rather arbitrary. In the 940s we have Europe listed from 940-949, Asia listed from 950-959 and Africa listed from 960-969. That seems OK, because Asia borders Europe, and Africa borders Asia (sorry I've slipped into a Geography lesson here ...). But it's also true that Africa is very close to Europe and the [Carthagian's](http://en.wikipedia.org/wiki/Carthage) had an empire that went across both ... add did the Romans (a bit of History thrown in too). \n",
      "\n",
      "<center><img src=\"http://upload.wikimedia.org/wikipedia/en/9/9b/Carthaginianempire.PNG\", width=500>\n",
      "A map of the Carthagian Empire. Hannibal famously took his African elephants over the Alps to take the Romans by surprise. It did surprise the Romans, but perhaps not as much as it surprised the elephants.\n",
      "</center>\n",
      "\n",
      "Where should those books go? If they went between Africa and Europe they'd end up in Asia ... which would be wrong. Ah! But that's easy to solve, let's just represent the subject by *two* numbers and then we can lay out the books like a map!\n",
      "\n",
      "Inspired by the map example we can start considering how we might lay out *films* in two dimensions. Although we also would like to characterize people too ... maybe we could also make a map of people's interests. In fact maybe the map could be a map of the same space. Let's think of it as a film library ... then the people could sit *near* the *films* they were interested in. We would have two maps of the same place. One of where the films are, and one of where the people are. People could sit near the films they like, and then they wouldn't have to move far to get the next film they'd want to watch (don't take the analogy too far though, if you start thinking about toilets and snack bars it kind of breaks down ... but fortunately we've turned you into a number now so you don't need the toilet or a snack bar). \n",
      "\n",
      "That's it! We've cracked it ... or at least we've come up with *one* way of doing it. Although now, the fun just starts. Once you've had the idea, now you get to do the maths."
     ]
    },
    {
     "cell_type": "markdown",
     "metadata": {},
     "source": [
      "## Vectors\n",
      "\n",
      "Do you know about vectors? Vectors are great. Vectors are just a way of carrying a series of numbers about together. Not around town and to Meadowhall of course (even numbers don't like going to Meadowhall), but mathematically. I can represent lots of things by vectors, anything I can represent by numbers in fact. So since people can be numbers then I can represent *people* by vectors. This is not such a strange thing, and in fact it is being done to you all the time. If you use Facebook, they represent you by a vector (or actually more than one vector ... but all vectors can be returned to one vector at the end of the day ... have a think about why that is so). The vector that facebook have determines which items will come to the top of your news feed. It determines what adverts you see. It *even* determines who your friends are ... well actually that's taking it a bit far ... it just determines who Facebook *suggests* to you for friends. \n",
      "\n",
      "Of course it's fun to reprent people by numbers, if only to freak them out a bit, but in reality they don't do it for that reason. The vector Facebook store about you is pretty important because it determines what your *experience* of Facebook is. If it's a good experience, then you'll go there and interact more ... if it's a dull experience you'll wonder off to WhatsApp or Instagram ... or maybe even Google+.  If they get that vector right, then they've captured something about your personality and they can create a better Facebook tailored for you.\n",
      "\n",
      "When we write a vector down we do it like so:\n",
      "$$\n",
      "\\mathbf{v} = \\begin{bmatrix}1\\\\2\\end{bmatrix}\n",
      "$$\n",
      "That is a special container for 2 numbers, the numbers themselves are 1 and 2. Sometimes we write the vector like this:\n",
      "$$\n",
      "\\mathbf{v} = \\begin{bmatrix}v_1\\\\v_2\\end{bmatrix}\n",
      "$$\n",
      "where we are just saying the first number is given by $v_1$ and the second by $v_2$. \n",
      "Vectors are often used for speed (or more correctly *velocity*). So $v_1$ could be velocity in the Westerly direction and $v_2$ could be velocity in the Northerly direction. When people are piloting planes, they are often told they are being 'vectored'. It doesn't mean Facebook are turning them into a series of numbers (although Facebook probably are, that's just not what they mean on this occasion). It means that they are being told to go somewhere through a series of vectors.\n",
      "\n",
      "I like $\\mathbf{v}$ for vector so I'm going to use it to represent our films. Every film has it's own vector. But there are lots of films, so to avoid confusiong them we need to *index* our vectors. First we think that every film is given an index, $j$. Then the vector associated with the film is given by $\\mathbf{v}_j$. \n",
      "\n",
      "I'm going to do the same to you. And I'm going to use $\\mathbf{u}$. I like to use $\\mathbf{u}$ for you, and then index by $i$ for the users. So each user is represented by $u$ and indexed by $i$ like so: $\\mathbf{u}_i$. \n",
      "\n",
      "So now you are all $\\mathbf{u}$s and films are all $\\mathbf{v}$s we can think about how we pull together films and people. \n",
      "\n",
      "If we have a movie rating, then we can represent it by $y$. That's easy, because it's just a number. But it's a number that is associated with a *user* and a *film*. That means it needs *two* indices: $i$ and $j$. One for the person and one for the film. So now we can represent all the ratings as $y$_{i,j}.\n",
      "\n",
      "### Dot Products\n",
      "\n",
      "How do you multiply vectors together? One way is the *dot product*. If we take the dot product (or inner product) between two vectors then we simply take each of their corresponding elements, multiply them together and sum the result.\n",
      "\n",
      "We now need a measure for determining the similarity between the item and the user: how close the user is sitting to the item in the rooom if you like. We are going to use the inner product between the vector representing the item and the vector representing the user. \n",
      "\n",
      "The [dot product](http://en.wikipedia.org/wiki/Dot_product) between two vectors $\\mathbf{a}$ and $\\mathbf{b}$ is written as $\\mathbf{a}\\cdot\\mathbf{b}$. Mathematically we can write the *sum* as follows:\n",
      "$$\n",
      "\\mathbf{a}^\\top\\mathbf{b} = \\sum_{i} a_i b_i\n",
      "$$\n",
      "\n",
      "What's that got to do with recommendation? Well, the inner product can be seen as a measure of *similarity*. How so? Well one clever thing about the inner product that arises from trigonometry is that the inner product is related to the the cosine of the angle between the two vectors.\n",
      "\n",
      "The smaller the angle between two vectors the larger the inner product. \n",
      "$$\n",
      "\\mathbf{a}^\\top\\mathbf{b} = |\\mathbf{a}||\\mathbf{b}| \\cos(\\theta)\n",
      "$$\n",
      "where $\\theta$ is the angle between two vectors and $|\\mathbf{a}|$ and $|\\mathbf{b}|$ are the respective lengths of the two vectors. So now let's plot cosine."
     ]
    },
    {
     "cell_type": "code",
     "collapsed": false,
     "input": [
      "tau = 2*np.pi # tau is 2 times pi.\n",
      "theta = np.linspace(-0.5*tau, 0.5*tau, 100) # this gives us 100 points in *radians* (in degrees they'd be from -180 to 180)\n",
      "f = np.cos(theta)\n",
      "fig, ax = plt.subplots(figsize=(12, 6))\n",
      "ax.plot(theta, f, 'r-')\n",
      "plt.xlabel('$\\\\theta$')\n",
      "plt.ylabel('$\\\\cos(\\\\theta)$')"
     ],
     "language": "python",
     "metadata": {},
     "outputs": [
      {
       "metadata": {},
       "output_type": "pyout",
       "prompt_number": 5,
       "text": [
        "<matplotlib.text.Text at 0x10eb16790>"
       ]
      },
      {
       "metadata": {},
       "output_type": "display_data",
       "png": "[encoded data removed]",
       "text": [
        "<matplotlib.figure.Figure at 0x10dfe8710>"
       ]
      }
     ],
     "prompt_number": 5
    },
    {
     "cell_type": "markdown",
     "metadata": {},
     "source": [
      "We can immediately see that if the angle is small then cosine will be big. If it is large then cosine goes negative (at 180 degrees cosine is -1). So a *negative* inner product is associated with a wide angle and a large inner product is associated with a *narrow* angle. If the angle is *wide* then the two points described by the vectors will be far apart. If the angle is narrow then the two points will be nearer to each other (assuming the lengths of the two vectors doesn't vary much between the two inner products). "
     ]
    },
    {
     "cell_type": "markdown",
     "metadata": {},
     "source": [
      "In our library we want each user to be sitting near the items they like (or rate highly) so we want the inner product to be large if the rating is high and small if the rating is low. We can do this by trying to force the inner product $\\mathbf{u}_i^\\top\\mathbf{v}_j$ to be similar to the rating given by the user, $y_{i,j}$. To ensure this we will use a sum of squares objective function for all user ratings."
     ]
    },
    {
     "cell_type": "markdown",
     "metadata": {},
     "source": [
      "### The Library as an Infinite Plane\n",
      "\n",
      "Let's imagine a library which stores all the items  we are interested in, not just books, but films and shopping items too. Such a library is likely to be very large, so we'll imagine it on an infinite two dimensional plane (if your head starts hurting, stop imagining the plane and definitely don't think of a infinite plane in four dimensions, becaue that's more painful). \n",
      "\n",
      "To recap, this means we can use *numbers* to represent the location of each item on the plane. For a two dimensional plane, we need to store the locations in a vector of numbers: we can decide that the $j$th item's location in the library is given by \n",
      "$$\n",
      "\\mathbf{v}_j = \\begin{bmatrix} v_{j,1} \\\\ v_{j,2}\\end{bmatrix},\n",
      "$$\n",
      "where $v_{j,1}$ represents the $j$th item's location in the East-West direction (or the $x$-axis) and $v_{j,2}$ represents the $j$th item's location in the North-South direction (or the $y$-axis). Now we need to specify the location where each user sits so that all the items that interest them are nearby: we can also represent the $i$th user's location with a vector \n",
      "$$\n",
      "\\mathbf{u}_i = \\begin{bmatrix} u_{i,1} \\\\ u_{i,2}\\end{bmatrix}.\n",
      "$$\n",
      "Finally, we need some way of recording a given user's affinity for a given item. This affinity might be the rating that the user gives the film. We can use $y_{i,j}$ to represent user $i$'s affinity for item $j$. \n",
      "\n",
      "For our film example we might imagine wanting to order films in a few ways. We could imagine organising films in the North-South direction as to how romantic they are. We could place the more romantic films further North and the less romantic films further South. For the East-West direction we could imagine ordering them according to how historic they are: we can imagine placing science fiction films to the East and historical drama to the West. In this case, fans of historical romances would be based in the North-West location, whilst fans of Science Fiction Action films might be located in the South-East (if we assume that 'Action' is the opposite of 'Romance', which is not necessarily the case). How do we lay out all these films? Have we got the right axes? In machine learning the answer is to 'let the data speak'. Use the data to try and obtain such a lay out. To do this we first need to obtain the data."
     ]
    },
    {
     "cell_type": "code",
     "collapsed": false,
     "input": [
      "#url = 'https://www.dropbox.com/s/i4o4quo0oplq62m/movies.csv?dl=0&raw=1'\n",
      "url = 'https://www.dropbox.com/s/s6gqvp9b383b59y/movies.csv?dl=0&raw=1'\n",
      "import pandas as pd\n",
      "import os\n",
      "# I have a python script on my computer that collates all your ratings. Then it writes the results to a dropbox directory.\n",
      "# this line loads that result from the dropbox directory.\n",
      "pods.util.download_url(url, store_directory = 'ambassadors_movie', save_name='movies.csv')\n",
      "movies = pd.read_csv(os.path.join(pods.datasets.data_path, 'ambassadors_movie', 'movies.csv')).set_index('index')\n",
      "user_names = list(set(movies.columns)-set(movies.columns[:9]))\n",
      "Y = pd.melt(movies.reset_index(), id_vars=['Film', 'index'], \n",
      "            var_name='user', value_name='rating', \n",
      "            value_vars=user_names)\n",
      "Y = Y.dropna(axis=0)"
     ],
     "language": "python",
     "metadata": {},
     "outputs": []
    },
    {
     "cell_type": "code",
     "collapsed": false,
     "input": [],
     "language": "python",
     "metadata": {},
     "outputs": [],
     "prompt_number": 7
    },
    {
     "cell_type": "markdown",
     "metadata": {},
     "source": [
      "## Objective Functions and Optimisation\n",
      "\n",
      "How do we get the computer to learn? My research area is known as 'machine learning', and it's one of the dominant areas of artificial intelligence at the moment. Broadly speaking, in machine learning we try and specify an *objective function*. The objective function is like a landscape in which we can move around. We move around by changing *parameters*. The objective function defines which bits of the landscape are good (ironically these are the *low* points) and the points in the landscape which are bad (these are the *high* points). This process is known as optimization (don't confuse it with optimism, where high points and low points provide different roles). \n",
      "\n",
      "We learn from data by trying to find points in this landscape that are low down. You may already be familiar with this example though fitting a straight line, where the objective function is known as the *sum of squared errors*. This objective function was first proposed by Legendre in the early 19th century as a way of 'learning' the orbits of planets.\n",
      "$$\n",
      "y=mx+c\n",
      "$$\n",
      "but it can't go through all the points. Instead you choose values for $m$ and $c$ that make the line go as close to the points as possible. How do you defien close? One way is to measure the distance with the  'sum of squares'.\n",
      "$$\n",
      "e = \\sum_i (y_i - m x_i + c)^2\n",
      "$$\n",
      "where the points you want the line to go through are given by $x_i$ and $y_i$. \n",
      "\n",
      "### An Objective for the Recommender System\n",
      "\n",
      "For our recommender system we also want to estimate the sum of square errors. But the error we are trying to minimize is given by\n",
      "$$\n",
      "e = \\sum_i \\sum_j (y_{i,j} - \\mathbf{u}_i\\cdot\\mathbf{v}_i)^\\top\n",
      "$$\n",
      "where the dot, $\\cdot$, represents the *inner* product between the vectors. We want this error to be as small as possible, and we will reduce it by changing the values of each $\\mathbf{u}_i$ and $\\mathbf{v}_i$. \n",
      "\n",
      "When we are done, if we want to predict your score for any film ($y_{i,j}$) then we just compute the *inner product* between  $\\mathbf{u}_i$ and $\\mathbf{v}_j$. \n",
      "\n",
      "Oh! But there's a problem! We don't have *all* the values for $y_{i,j}$ in our data! We only have the ones you rated. Actually, you can do a lot of clever maths to show that this doesn't matter and you don't really need to worry about those ones (you just throw those ones away). If someone asks why you can throw them away then just tell them it's because of [*Kolmogorov Consistency*](http://en.wikipedia.org/wiki/Kolmogorov_extension_theorem). Trust me, most people won't ask you again ... and if they do ask you again then you've *definitely* found someone interesting to talk to.\n",
      "\n",
      "To take care of the 'throwing away' effect, then we often add another variable $s_{i,j}$ which we define to be 1 if we have the rating and 0 otherwise. Then we can leave the sum across all values in and write the objective function as:\n",
      "\n",
      "The total objective function can be written as\n",
      "$$\n",
      "e = \\sum_{i,j} s_{i,j} (y_{i,j} - \\mathbf{u}_i^\\top \\mathbf{v}_j)^2\n",
      "$$\n",
      "\n",
      "## Objective Optimization\n",
      "\n",
      "We need to minimize the sum of squared errors: we want the 'gap' between our prediction and the truth to be as small as possible. Today we are going to do that via *gradient descent* or *steepest descent*. \n",
      "\n",
      "What is this algorithm? Well, we can again use the analogy of the objective function as a hilly surface, one that you want to get to the bottom of. Let's say you are at the top of Kinder and you want to get to Edale station. One way of getting there would be to just walk downhill in the *steepest* direction. Then if Edale station is at the bottom of the valley (which it isn't quite) and  as long as you don't get stuck in one of the many hollows around the place (which you would) eventually you'd arrive at Kinder station (don't try this, even if you didn't get stuck in a hollow, you'd likely fall off a cliff and I'd get in trouble). OK, but you get the idea. It turns out that we can use the technique of *differentiation* to compute the gradient of the objective function. The gradient is also a *vector*. And the gradient *descent* algorithm involves simply taking your current vector and subtracting off the gradient. It's rather like what a ball would do if it was pushed off Kinder Scout (well, actually, the ball would probably be blown upwards knowing the winds up there). Now, what does that look like in practice I hear you ask? Enough of this talk of libraries, balls and fell walking (or falling)!\n",
      "\n",
      "After some nice maths (this time due to [Newton](http://en.wikipedia.org/wiki/Isaac_Newton) and [Leibniz](http://en.wikipedia.org/wiki/Gottfried_Wilhelm_Leibniz) who independently developed differentiation) you get the following *update* rule everytime you see a film rating:\n",
      "$$\n",
      "\\mathbf{u}_{i} \\leftarrow \\mathbf{u}_{i} + \\eta \\mathbf{v}_j(y_{i,j}-\\mathbf{u}_i^\\top \\mathbf{v}_j) \n",
      "$$\n",
      "where $\\eta$ (which is pronounced *eta* in English) is a Greek letter representing the *learning rate*. It's not a very complicated thing, but we can make it seem that way by using a greek letter (although I teach a lot of Greek's who must really think I've ovecomplicated the $\\mathbf{u}$ and $\\mathbf{v}$ thing. \n",
      "\n",
      "The arrow just means that the updated value of $\\mathbf{u}$ is given by the old value of $\\mathbf{u}$ plus the vector associated with the film multiplied by the learning rate and $(y_{i,j}-\\mathbf{u}_i^\\top \\mathbf{v}_j)$. But what is $(y_{i,j}-\\mathbf{u}_i^\\top \\mathbf{v}_j) $? It is the difference between our prediction and the rating that we want to see. The prediction can either be *just right* (baby bear) in which case it will be zero and the new value for $\\mathbf{u}_i$ will be the same as the old one or the prediction can be *too large* (daddy bear) in which case the number will be *negative* and $\\mathbf{u}$ will move in the *opposite* direction to $\\mathbf{v}$ or it can be *too small* (mummy bear) in which case the number will be *positive* and the $\\mathbf{u}_i$ will move towards $\\mathbf{v}$.\n",
      "\n",
      "Three situations then. For each film you either have:\n",
      "\n",
      "1. Baby bear (stay wear you are).\n",
      "2. Daddy bear, predicted score too big! (move away from the film).\n",
      "3. Mummy bear, predicted score too small! (move towards the film).\n",
      "\n",
      "OK then Goldilocks? What next? Well, that may be enough time thinking about it, time to implement it on the computer and play around a bit!"
     ]
    },
    {
     "cell_type": "markdown",
     "metadata": {},
     "source": [
      "## Steepest Descent Algorithm\n",
      "\n",
      "In the steepest descent algorithm we aim to minimize the objective function by subtacting the gradient of the objective function from the parameters. \n",
      "\n",
      "To program this we need to store the parameters in the computer. We are going to store our vectors together in a *matrix* which is simply a group of vectors placed together (rather like a vector is a group of numbers placed together). We will call these matrices $\\mathbf{U}$ and the matrix $\\mathbf{V}$. \n",
      "\n",
      "We need some initial values for them. The code below sets the initial values to small randomly distributed values."
     ]
    },
    {
     "cell_type": "code",
     "collapsed": false,
     "input": [
      "# import the data analysis library\n",
      "import pandas as pd\n",
      "q = 2 # the dimension of our map of the 'library'\n",
      "learn_rate = 0.01\n",
      "import numpy as np\n",
      "init_u = np.random.normal(size=(len(user_names), q))*0.001\n",
      "init_v = np.random.normal(size=(len(movies.index), q))*0.001\n",
      "U = pd.DataFrame(init_u, index=user_names)\n",
      "V = pd.DataFrame(init_v, index=movies.index)\n"
     ],
     "language": "python",
     "metadata": {},
     "outputs": [
      {
       "ename": "NameError",
       "evalue": "name 'user_names' is not defined",
       "output_type": "pyerr",
       "traceback": [
        "\u001b[0;31m---------------------------------------------------------------------------\u001b[0m\n\u001b[0;31mNameError\u001b[0m                                 Traceback (most recent call last)",
        "\u001b[0;32m<ipython-input-6-61589e63aedd>\u001b[0m in \u001b[0;36m<module>\u001b[0;34m()\u001b[0m\n\u001b[1;32m      4\u001b[0m \u001b[0mlearn_rate\u001b[0m \u001b[0;34m=\u001b[0m \u001b[0;36m0.01\u001b[0m\u001b[0;34m\u001b[0m\u001b[0m\n\u001b[1;32m      5\u001b[0m \u001b[0;32mimport\u001b[0m \u001b[0mnumpy\u001b[0m \u001b[0;32mas\u001b[0m \u001b[0mnp\u001b[0m\u001b[0;34m\u001b[0m\u001b[0m\n\u001b[0;32m----> 6\u001b[0;31m \u001b[0minit_u\u001b[0m \u001b[0;34m=\u001b[0m \u001b[0mnp\u001b[0m\u001b[0;34m.\u001b[0m\u001b[0mrandom\u001b[0m\u001b[0;34m.\u001b[0m\u001b[0mnormal\u001b[0m\u001b[0;34m(\u001b[0m\u001b[0msize\u001b[0m\u001b[0;34m=\u001b[0m\u001b[0;34m(\u001b[0m\u001b[0mlen\u001b[0m\u001b[0;34m(\u001b[0m\u001b[0muser_names\u001b[0m\u001b[0;34m)\u001b[0m\u001b[0;34m,\u001b[0m \u001b[0mq\u001b[0m\u001b[0;34m)\u001b[0m\u001b[0;34m)\u001b[0m\u001b[0;34m*\u001b[0m\u001b[0;36m0.001\u001b[0m\u001b[0;34m\u001b[0m\u001b[0m\n\u001b[0m\u001b[1;32m      7\u001b[0m \u001b[0minit_v\u001b[0m \u001b[0;34m=\u001b[0m \u001b[0mnp\u001b[0m\u001b[0;34m.\u001b[0m\u001b[0mrandom\u001b[0m\u001b[0;34m.\u001b[0m\u001b[0mnormal\u001b[0m\u001b[0;34m(\u001b[0m\u001b[0msize\u001b[0m\u001b[0;34m=\u001b[0m\u001b[0;34m(\u001b[0m\u001b[0mlen\u001b[0m\u001b[0;34m(\u001b[0m\u001b[0mmovies\u001b[0m\u001b[0;34m.\u001b[0m\u001b[0mindex\u001b[0m\u001b[0;34m)\u001b[0m\u001b[0;34m,\u001b[0m \u001b[0mq\u001b[0m\u001b[0;34m)\u001b[0m\u001b[0;34m)\u001b[0m\u001b[0;34m*\u001b[0m\u001b[0;36m0.001\u001b[0m\u001b[0;34m\u001b[0m\u001b[0m\n\u001b[1;32m      8\u001b[0m \u001b[0mU\u001b[0m \u001b[0;34m=\u001b[0m \u001b[0mpd\u001b[0m\u001b[0;34m.\u001b[0m\u001b[0mDataFrame\u001b[0m\u001b[0;34m(\u001b[0m\u001b[0minit_u\u001b[0m\u001b[0;34m,\u001b[0m \u001b[0mindex\u001b[0m\u001b[0;34m=\u001b[0m\u001b[0muser_names\u001b[0m\u001b[0;34m)\u001b[0m\u001b[0;34m\u001b[0m\u001b[0m\n",
        "\u001b[0;31mNameError\u001b[0m: name 'user_names' is not defined"
       ]
      }
     ],
     "prompt_number": 6
    },
    {
     "cell_type": "markdown",
     "metadata": {},
     "source": [
      "Actually, I told you a little 'white lie' there, we aren't storing the data in *just* a matrix, but we are using a pandas data frame. This object doesn't just store the numbers but some of the information about the numbers, this means that rather than just indexing with numbers $i$ and $j$ we can index things with something a bit more human readable. To see this, let's print the starting positions, we should see very quickly the nicknames you used for storing your movie ratings alongside the numbers."
     ]
    },
    {
     "cell_type": "code",
     "collapsed": false,
     "input": [
      "print U"
     ],
     "language": "python",
     "metadata": {},
     "outputs": [
      {
       "output_type": "stream",
       "stream": "stdout",
       "text": [
        "                                            0         1\n",
        "DPekaslan1@sheffield.ac.uk           0.000473  0.000386\n",
        "MCooper2@sheffield.ac.uk             0.000873  0.001044\n",
        "LHeavens1@sheffield.ac.uk            0.000630 -0.002169\n",
        "QAZaini1@sheffield.ac.uk             0.001067 -0.001097\n",
        "TSuleymanov1@sheffield.ac.uk        -0.000167 -0.000074\n",
        "YHe20@sheffield.ac.uk                0.001005  0.001515\n",
        "SJWilson1@sheffield.ac.uk            0.000643 -0.000123\n",
        "HMa9@sheffield.ac.uk                 0.000984  0.000829\n",
        "JJohal1@sheffield.ac.uk              0.000484 -0.000923\n",
        "JParak1@sheffield.ac.uk             -0.001387  0.001428\n",
        "AVouros1@sheffield.ac.uk             0.002336 -0.000656\n",
        "JDrane1@sheffield.ac.uk              0.000961  0.000183\n",
        "RMo1@sheffield.ac.uk                 0.000397  0.002000\n",
        "ermira.daka@sheffield.ac.uk          0.001056 -0.000412\n",
        "YLin41@sheffield.ac.uk               0.000311 -0.001303\n",
        "CSheridan1@sheffield.ac.uk          -0.000101  0.001008\n",
        "XWang95@sheffield.ac.uk             -0.000123  0.000693\n",
        "SSensay1@sheffield.ac.uk            -0.000474  0.000234\n",
        "JTLGoh1@sheffield.ac.uk              0.000161 -0.001316\n",
        "CAekmunkhongpaisal1@sheffield.ac.uk  0.001571  0.000260\n"
       ]
      }
     ],
     "prompt_number": 10
    },
    {
     "cell_type": "markdown",
     "metadata": {},
     "source": [
      "### Preprocessing the Data\n",
      "\n",
      "Very often there are sensible changes we can make to the data to make learning easier. For example, we can compute the average rating of all the reviewers and subtract this from the data before we start."
     ]
    },
    {
     "cell_type": "code",
     "collapsed": false,
     "input": [
      "Y['rating'] -= Y['rating'].mean()"
     ],
     "language": "python",
     "metadata": {},
     "outputs": []
    },
    {
     "cell_type": "markdown",
     "metadata": {},
     "source": [
      "This is a sensible step, because the inner product can represent both negative numbers and positive numbers, yet the ratings we had so far were positive only. Subtracting the mean will cause $\\mathbf{u}$ to try and be at a wide angle from $\\mathbf{v}$ for the low ratings, because now the target value ($y_{i,j}$) is negative."
     ]
    },
    {
     "cell_type": "code",
     "collapsed": false,
     "input": [],
     "language": "python",
     "metadata": {},
     "outputs": []
    },
    {
     "cell_type": "markdown",
     "metadata": {},
     "source": [
      "### Optimisation\n",
      "\n",
      "Now we have the initial values set and the pre-processing done, we can start the optimisation. "
     ]
    },
    {
     "cell_type": "code",
     "collapsed": false,
     "input": [
      "def objective_gradient(Y, U, V):\n",
      "    gU = pd.DataFrame(np.zeros((U.shape)), index=U.index)\n",
      "    gV = pd.DataFrame(np.zeros((V.shape)), index=V.index)\n",
      "    obj = 0.\n",
      "    for ind, series in Y.iterrows():\n",
      "        film = series['index']\n",
      "        user = series['user']\n",
      "        rating = series['rating']\n",
      "        prediction = np.dot(U.loc[user], V.loc[film]) # vTu\n",
      "        diff = prediction - rating # vTu - y\n",
      "        obj += diff*diff\n",
      "        gU.loc[user] += 2*diff*V.loc[film]\n",
      "        gV.loc[film] += 2*diff*U.loc[user]\n",
      "    return obj, gU, gV"
     ],
     "language": "python",
     "metadata": {},
     "outputs": []
    },
    {
     "cell_type": "markdown",
     "metadata": {},
     "source": [
      "Now we can write our simple optimisation route. This allows us to observe the objective function as the optimization proceeds."
     ]
    },
    {
     "cell_type": "code",
     "collapsed": false,
     "input": [
      "import sys\n",
      "epochs = 100\n",
      "for i in range(epochs):\n",
      "    # loop across the ratings\n",
      "    for ind, series in Y.iterrows():\n",
      "        # get which film and user and value the rating us\n",
      "        film = series['item']\n",
      "        user = series['user']\n",
      "        y = series['rating']\n",
      "        u = U.loc[user], v = V.loc[film] # get the u and v vectors from the matrices.\n",
      "        # compute the update for u\n",
      "        u = u + learn_rate*v*(y-np.dot(u,v))\n",
      "        # compute the update for v\n",
      "        v = v + learn_rate*u*(y-np.dot(u,v))\n",
      "\n",
      "    "
     ],
     "language": "python",
     "metadata": {},
     "outputs": [
      {
       "ename": "KeyError",
       "evalue": "'the label [425] is not in the [index]'",
       "output_type": "pyerr",
       "traceback": [
        "\u001b[0;31m---------------------------------------------------------------------------\u001b[0m\n\u001b[0;31mKeyError\u001b[0m                                  Traceback (most recent call last)",
        "\u001b[0;32m<ipython-input-20-0c11fc8e10ac>\u001b[0m in \u001b[0;36m<module>\u001b[0;34m()\u001b[0m\n\u001b[1;32m      8\u001b[0m         \u001b[0muser\u001b[0m \u001b[0;34m=\u001b[0m \u001b[0mseries\u001b[0m\u001b[0;34m[\u001b[0m\u001b[0;34m'user'\u001b[0m\u001b[0;34m]\u001b[0m\u001b[0;34m\u001b[0m\u001b[0m\n\u001b[1;32m      9\u001b[0m         \u001b[0my\u001b[0m \u001b[0;34m=\u001b[0m \u001b[0mseries\u001b[0m\u001b[0;34m[\u001b[0m\u001b[0;34m'rating'\u001b[0m\u001b[0;34m]\u001b[0m\u001b[0;34m\u001b[0m\u001b[0m\n\u001b[0;32m---> 10\u001b[0;31m         \u001b[0mu\u001b[0m \u001b[0;34m=\u001b[0m \u001b[0mU\u001b[0m\u001b[0;34m.\u001b[0m\u001b[0mloc\u001b[0m\u001b[0;34m[\u001b[0m\u001b[0muser\u001b[0m\u001b[0;34m]\u001b[0m\u001b[0;34m,\u001b[0m \u001b[0mv\u001b[0m \u001b[0;34m=\u001b[0m \u001b[0mV\u001b[0m\u001b[0;34m.\u001b[0m\u001b[0mloc\u001b[0m\u001b[0;34m[\u001b[0m\u001b[0mfilm\u001b[0m\u001b[0;34m]\u001b[0m \u001b[0;31m# get the u and v vectors from the matrices.\u001b[0m\u001b[0;34m\u001b[0m\u001b[0m\n\u001b[0m\u001b[1;32m     11\u001b[0m         \u001b[0;31m# compute the update for u\u001b[0m\u001b[0;34m\u001b[0m\u001b[0;34m\u001b[0m\u001b[0m\n\u001b[1;32m     12\u001b[0m         \u001b[0mu\u001b[0m \u001b[0;34m=\u001b[0m \u001b[0mu\u001b[0m \u001b[0;34m+\u001b[0m \u001b[0mlearn_rate\u001b[0m\u001b[0;34m*\u001b[0m\u001b[0mv\u001b[0m\u001b[0;34m*\u001b[0m\u001b[0;34m(\u001b[0m\u001b[0my\u001b[0m\u001b[0;34m-\u001b[0m\u001b[0mnp\u001b[0m\u001b[0;34m.\u001b[0m\u001b[0mdot\u001b[0m\u001b[0;34m(\u001b[0m\u001b[0mu\u001b[0m\u001b[0;34m,\u001b[0m\u001b[0mv\u001b[0m\u001b[0;34m)\u001b[0m\u001b[0;34m)\u001b[0m\u001b[0;34m\u001b[0m\u001b[0m\n",
        "\u001b[0;32m/Users/neil/Library/Enthought/Canopy_64bit/User/lib/python2.7/site-packages/pandas/core/indexing.pyc\u001b[0m in \u001b[0;36m__getitem__\u001b[0;34m(self, key)\u001b[0m\n\u001b[1;32m   1142\u001b[0m             \u001b[0;32mreturn\u001b[0m \u001b[0mself\u001b[0m\u001b[0;34m.\u001b[0m\u001b[0m_getitem_tuple\u001b[0m\u001b[0;34m(\u001b[0m\u001b[0mkey\u001b[0m\u001b[0;34m)\u001b[0m\u001b[0;34m\u001b[0m\u001b[0m\n\u001b[1;32m   1143\u001b[0m         \u001b[0;32melse\u001b[0m\u001b[0;34m:\u001b[0m\u001b[0;34m\u001b[0m\u001b[0m\n\u001b[0;32m-> 1144\u001b[0;31m             \u001b[0;32mreturn\u001b[0m \u001b[0mself\u001b[0m\u001b[0;34m.\u001b[0m\u001b[0m_getitem_axis\u001b[0m\u001b[0;34m(\u001b[0m\u001b[0mkey\u001b[0m\u001b[0;34m,\u001b[0m \u001b[0maxis\u001b[0m\u001b[0;34m=\u001b[0m\u001b[0;36m0\u001b[0m\u001b[0;34m)\u001b[0m\u001b[0;34m\u001b[0m\u001b[0m\n\u001b[0m\u001b[1;32m   1145\u001b[0m \u001b[0;34m\u001b[0m\u001b[0m\n\u001b[1;32m   1146\u001b[0m     \u001b[0;32mdef\u001b[0m \u001b[0m_getitem_axis\u001b[0m\u001b[0;34m(\u001b[0m\u001b[0mself\u001b[0m\u001b[0;34m,\u001b[0m \u001b[0mkey\u001b[0m\u001b[0;34m,\u001b[0m \u001b[0maxis\u001b[0m\u001b[0;34m=\u001b[0m\u001b[0;36m0\u001b[0m\u001b[0;34m,\u001b[0m \u001b[0mvalidate_iterable\u001b[0m\u001b[0;34m=\u001b[0m\u001b[0mFalse\u001b[0m\u001b[0;34m)\u001b[0m\u001b[0;34m:\u001b[0m\u001b[0;34m\u001b[0m\u001b[0m\n",
        "\u001b[0;32m/Users/neil/Library/Enthought/Canopy_64bit/User/lib/python2.7/site-packages/pandas/core/indexing.pyc\u001b[0m in \u001b[0;36m_getitem_axis\u001b[0;34m(self, key, axis, validate_iterable)\u001b[0m\n\u001b[1;32m   1288\u001b[0m \u001b[0;34m\u001b[0m\u001b[0m\n\u001b[1;32m   1289\u001b[0m         \u001b[0;31m# fall thru to straight lookup\u001b[0m\u001b[0;34m\u001b[0m\u001b[0;34m\u001b[0m\u001b[0m\n\u001b[0;32m-> 1290\u001b[0;31m         \u001b[0mself\u001b[0m\u001b[0;34m.\u001b[0m\u001b[0m_has_valid_type\u001b[0m\u001b[0;34m(\u001b[0m\u001b[0mkey\u001b[0m\u001b[0;34m,\u001b[0m \u001b[0maxis\u001b[0m\u001b[0;34m)\u001b[0m\u001b[0;34m\u001b[0m\u001b[0m\n\u001b[0m\u001b[1;32m   1291\u001b[0m         \u001b[0;32mreturn\u001b[0m \u001b[0mself\u001b[0m\u001b[0;34m.\u001b[0m\u001b[0m_get_label\u001b[0m\u001b[0;34m(\u001b[0m\u001b[0mkey\u001b[0m\u001b[0;34m,\u001b[0m \u001b[0maxis\u001b[0m\u001b[0;34m=\u001b[0m\u001b[0maxis\u001b[0m\u001b[0;34m)\u001b[0m\u001b[0;34m\u001b[0m\u001b[0m\n\u001b[1;32m   1292\u001b[0m \u001b[0;34m\u001b[0m\u001b[0m\n",
        "\u001b[0;32m/Users/neil/Library/Enthought/Canopy_64bit/User/lib/python2.7/site-packages/pandas/core/indexing.pyc\u001b[0m in \u001b[0;36m_has_valid_type\u001b[0;34m(self, key, axis)\u001b[0m\n\u001b[1;32m   1247\u001b[0m                 \u001b[0;32mraise\u001b[0m\u001b[0;34m\u001b[0m\u001b[0m\n\u001b[1;32m   1248\u001b[0m             \u001b[0;32mexcept\u001b[0m\u001b[0;34m:\u001b[0m\u001b[0;34m\u001b[0m\u001b[0m\n\u001b[0;32m-> 1249\u001b[0;31m                 \u001b[0merror\u001b[0m\u001b[0;34m(\u001b[0m\u001b[0;34m)\u001b[0m\u001b[0;34m\u001b[0m\u001b[0m\n\u001b[0m\u001b[1;32m   1250\u001b[0m \u001b[0;34m\u001b[0m\u001b[0m\n\u001b[1;32m   1251\u001b[0m         \u001b[0;32mreturn\u001b[0m \u001b[0mTrue\u001b[0m\u001b[0;34m\u001b[0m\u001b[0m\n",
        "\u001b[0;32m/Users/neil/Library/Enthought/Canopy_64bit/User/lib/python2.7/site-packages/pandas/core/indexing.pyc\u001b[0m in \u001b[0;36merror\u001b[0;34m()\u001b[0m\n\u001b[1;32m   1234\u001b[0m                         \"cannot use label indexing with a null key\")\n\u001b[1;32m   1235\u001b[0m                 raise KeyError(\"the label [%s] is not in the [%s]\" %\n\u001b[0;32m-> 1236\u001b[0;31m                                (key, self.obj._get_axis_name(axis)))\n\u001b[0m\u001b[1;32m   1237\u001b[0m \u001b[0;34m\u001b[0m\u001b[0m\n\u001b[1;32m   1238\u001b[0m             \u001b[0;32mtry\u001b[0m\u001b[0;34m:\u001b[0m\u001b[0;34m\u001b[0m\u001b[0m\n",
        "\u001b[0;31mKeyError\u001b[0m: 'the label [425] is not in the [index]'"
       ]
      }
     ],
     "prompt_number": 20
    },
    {
     "cell_type": "code",
     "collapsed": false,
     "input": [
      "%debug"
     ],
     "language": "python",
     "metadata": {},
     "outputs": [
      {
       "output_type": "stream",
       "stream": "stdout",
       "text": [
        "> \u001b[0;32m/Users/neil/Library/Enthought/Canopy_64bit/User/lib/python2.7/site-packages/pandas/core/indexing.py\u001b[0m(1236)\u001b[0;36merror\u001b[0;34m()\u001b[0m\n",
        "\u001b[0;32m   1235 \u001b[0;31m                raise KeyError(\"the label [%s] is not in the [%s]\" %\n",
        "\u001b[0m\u001b[0;32m-> 1236 \u001b[0;31m                               (key, self.obj._get_axis_name(axis)))\n",
        "\u001b[0m\u001b[0;32m   1237 \u001b[0;31m\u001b[0;34m\u001b[0m\u001b[0m\n",
        "\u001b[0m\n"
       ]
      },
      {
       "name": "stdout",
       "output_type": "stream",
       "stream": "stdout",
       "text": [
        "ipdb> up\n"
       ]
      },
      {
       "output_type": "stream",
       "stream": "stdout",
       "text": [
        "> \u001b[0;32m/Users/neil/Library/Enthought/Canopy_64bit/User/lib/python2.7/site-packages/pandas/core/indexing.py\u001b[0m(1249)\u001b[0;36m_has_valid_type\u001b[0;34m()\u001b[0m\n",
        "\u001b[0;32m   1248 \u001b[0;31m            \u001b[0;32mexcept\u001b[0m\u001b[0;34m:\u001b[0m\u001b[0;34m\u001b[0m\u001b[0m\n",
        "\u001b[0m\u001b[0;32m-> 1249 \u001b[0;31m                \u001b[0merror\u001b[0m\u001b[0;34m(\u001b[0m\u001b[0;34m)\u001b[0m\u001b[0;34m\u001b[0m\u001b[0m\n",
        "\u001b[0m\u001b[0;32m   1250 \u001b[0;31m\u001b[0;34m\u001b[0m\u001b[0m\n",
        "\u001b[0m\n"
       ]
      },
      {
       "name": "stdout",
       "output_type": "stream",
       "stream": "stdout",
       "text": [
        "ipdb> up\n"
       ]
      },
      {
       "output_type": "stream",
       "stream": "stdout",
       "text": [
        "> \u001b[0;32m/Users/neil/Library/Enthought/Canopy_64bit/User/lib/python2.7/site-packages/pandas/core/indexing.py\u001b[0m(1290)\u001b[0;36m_getitem_axis\u001b[0;34m()\u001b[0m\n",
        "\u001b[0;32m   1289 \u001b[0;31m        \u001b[0;31m# fall thru to straight lookup\u001b[0m\u001b[0;34m\u001b[0m\u001b[0;34m\u001b[0m\u001b[0m\n",
        "\u001b[0m\u001b[0;32m-> 1290 \u001b[0;31m        \u001b[0mself\u001b[0m\u001b[0;34m.\u001b[0m\u001b[0m_has_valid_type\u001b[0m\u001b[0;34m(\u001b[0m\u001b[0mkey\u001b[0m\u001b[0;34m,\u001b[0m \u001b[0maxis\u001b[0m\u001b[0;34m)\u001b[0m\u001b[0;34m\u001b[0m\u001b[0m\n",
        "\u001b[0m\u001b[0;32m   1291 \u001b[0;31m        \u001b[0;32mreturn\u001b[0m \u001b[0mself\u001b[0m\u001b[0;34m.\u001b[0m\u001b[0m_get_label\u001b[0m\u001b[0;34m(\u001b[0m\u001b[0mkey\u001b[0m\u001b[0;34m,\u001b[0m \u001b[0maxis\u001b[0m\u001b[0;34m=\u001b[0m\u001b[0maxis\u001b[0m\u001b[0;34m)\u001b[0m\u001b[0;34m\u001b[0m\u001b[0m\n",
        "\u001b[0m\n"
       ]
      },
      {
       "name": "stdout",
       "output_type": "stream",
       "stream": "stdout",
       "text": [
        "ipdb> up\n"
       ]
      },
      {
       "output_type": "stream",
       "stream": "stdout",
       "text": [
        "> \u001b[0;32m/Users/neil/Library/Enthought/Canopy_64bit/User/lib/python2.7/site-packages/pandas/core/indexing.py\u001b[0m(1144)\u001b[0;36m__getitem__\u001b[0;34m()\u001b[0m\n",
        "\u001b[0;32m   1143 \u001b[0;31m        \u001b[0;32melse\u001b[0m\u001b[0;34m:\u001b[0m\u001b[0;34m\u001b[0m\u001b[0m\n",
        "\u001b[0m\u001b[0;32m-> 1144 \u001b[0;31m            \u001b[0;32mreturn\u001b[0m \u001b[0mself\u001b[0m\u001b[0;34m.\u001b[0m\u001b[0m_getitem_axis\u001b[0m\u001b[0;34m(\u001b[0m\u001b[0mkey\u001b[0m\u001b[0;34m,\u001b[0m \u001b[0maxis\u001b[0m\u001b[0;34m=\u001b[0m\u001b[0;36m0\u001b[0m\u001b[0;34m)\u001b[0m\u001b[0;34m\u001b[0m\u001b[0m\n",
        "\u001b[0m\u001b[0;32m   1145 \u001b[0;31m\u001b[0;34m\u001b[0m\u001b[0m\n",
        "\u001b[0m\n"
       ]
      },
      {
       "name": "stdout",
       "output_type": "stream",
       "stream": "stdout",
       "text": [
        "ipdb> up\n"
       ]
      },
      {
       "output_type": "stream",
       "stream": "stdout",
       "text": [
        "> \u001b[0;32m<ipython-input-20-0c11fc8e10ac>\u001b[0m(10)\u001b[0;36m<module>\u001b[0;34m()\u001b[0m\n",
        "\u001b[0;32m      9 \u001b[0;31m        \u001b[0my\u001b[0m \u001b[0;34m=\u001b[0m \u001b[0mseries\u001b[0m\u001b[0;34m[\u001b[0m\u001b[0;34m'rating'\u001b[0m\u001b[0;34m]\u001b[0m\u001b[0;34m\u001b[0m\u001b[0m\n",
        "\u001b[0m\u001b[0;32m---> 10 \u001b[0;31m        \u001b[0mu\u001b[0m \u001b[0;34m=\u001b[0m \u001b[0mU\u001b[0m\u001b[0;34m.\u001b[0m\u001b[0mloc\u001b[0m\u001b[0;34m[\u001b[0m\u001b[0muser\u001b[0m\u001b[0;34m]\u001b[0m\u001b[0;34m,\u001b[0m \u001b[0mv\u001b[0m \u001b[0;34m=\u001b[0m \u001b[0mV\u001b[0m\u001b[0;34m.\u001b[0m\u001b[0mloc\u001b[0m\u001b[0;34m[\u001b[0m\u001b[0mfilm\u001b[0m\u001b[0;34m]\u001b[0m \u001b[0;31m# get the u and v vectors from the matrices.\u001b[0m\u001b[0;34m\u001b[0m\u001b[0m\n",
        "\u001b[0m\u001b[0;32m     11 \u001b[0;31m        \u001b[0;31m# compute the update for u\u001b[0m\u001b[0;34m\u001b[0m\u001b[0;34m\u001b[0m\u001b[0m\n",
        "\u001b[0m\n"
       ]
      },
      {
       "name": "stdout",
       "output_type": "stream",
       "stream": "stdout",
       "text": [
        "ipdb> series\n"
       ]
      },
      {
       "output_type": "stream",
       "stream": "stdout",
       "text": [
        "user            5\n",
        "item          425\n",
        "rating          2\n",
        "split     u1.base\n",
        "Name: 875637440, dtype: object\n"
       ]
      },
      {
       "name": "stdout",
       "output_type": "stream",
       "stream": "stdout",
       "text": [
        "ipdb> Y\n"
       ]
      },
      {
       "output_type": "stream",
       "stream": "stdout",
       "text": [
        "           user  item  rating    split\n",
        "index                                 \n",
        "874965758     1     1       5  u1.base\n",
        "876893171     1     2       3  u1.base\n",
        "878542960     1     3       4  u1.base\n",
        "876893119     1     4       3  u1.base\n",
        "889751712     1     5       3  u1.base\n",
        "875071561     1     7       4  u1.base\n",
        "875072484     1     8       1  u1.base\n",
        "878543541     1     9       5  u1.base\n",
        "875072262     1    11       2  u1.base\n",
        "875071805     1    13       5  u1.base\n",
        "875071608     1    15       5  u1.base\n",
        "878543541     1    16       5  u1.base\n",
        "887432020     1    18       4  u1.base\n",
        "875071515     1    19       5  u1.base\n",
        "878542772     1    21       1  u1.base\n",
        "875072404     1    22       4  u1.base\n",
        "875071805     1    25       4  u1.base\n",
        "875072442     1    26       3  u1.base\n",
        "875072173     1    28       4  u1.base\n",
        "878542869     1    29       1  u1.base\n",
        "878542515     1    30       3  u1.base\n",
        "888732909     1    32       5  u1.base\n",
        "878542869     1    34       2  u1.base\n",
        "878542420     1    35       1  u1.base\n",
        "878543030     1    37       2  u1.base\n",
        "878543075     1    38       3  u1.base\n",
        "876893230     1    40       3  u1.base\n",
        "876892818     1    41       2  u1.base\n",
        "876892425     1    42       5  u1.base\n",
        "878542869     1    43       4  u1.base\n",
        "...         ...   ...     ...      ...\n",
        "875049144   941     1       5  ub.test\n",
        "875049038   941   222       2  ub.test\n",
        "875049038   941   273       3  ub.test\n",
        "875048887   941   298       5  ub.test\n",
        "875048495   941   300       4  ub.test\n",
        "875048581   941   358       2  ub.test\n",
        "875048886   941   408       5  ub.test\n",
        "875049038   941   455       4  ub.test\n",
        "875048996   941   763       3  ub.test\n",
        "875048887   941   919       5  ub.test\n",
        "891283517   942    31       5  ub.test\n",
        "891283094   942   131       5  ub.test\n",
        "891283043   942   193       5  ub.test\n",
        "891282396   942   269       2  ub.test\n",
        "891282457   942   304       5  ub.test\n",
        "891282396   942   313       3  ub.test\n",
        "891282396   942   347       5  ub.test\n",
        "891282931   942   511       4  ub.test\n",
        "891282673   942   539       3  ub.test\n",
        "891282817   942   969       4  ub.test\n",
        "888639093   943    12       5  ub.test\n",
        "888640003   943    62       3  ub.test\n",
        "888639147   943   210       4  ub.test\n",
        "888692413   943   237       4  ub.test\n",
        "888639746   943   443       2  ub.test\n",
        "875502042   943   471       5  ub.test\n",
        "888639772   943   549       1  ub.test\n",
        "875502597   943   595       2  ub.test\n",
        "875502042   943   685       4  ub.test\n",
        "875502560   943  1011       2  ub.test\n",
        "\n",
        "[700000 rows x 4 columns]\n"
       ]
      }
     ]
    },
    {
     "cell_type": "markdown",
     "metadata": {},
     "source": [
      "## Plotting the Result"
     ]
    },
    {
     "cell_type": "code",
     "collapsed": false,
     "input": [
      "%matplotlib inline\n",
      "import pylab as plt\n",
      "fig, axes = plt.subplots(figsize=(8,8))\n",
      "axes.plot(U[0], U[1], 'rx')\n",
      "for index in U.index:\n",
      "    axes.text(U[0][index], U[1][index], index)\n",
      "fig, axes = plt.subplots(figsize=(8,8))\n",
      "axes.plot(V[0], V[1], 'rx')\n",
      "for index in V.index:\n",
      "    # display the movie if it was rated.\n",
      "    if np.sum(Y['index']==index)>0:\n",
      "        axes.text(V[0][index], V[1][index], movies['Film'][index])\n",
      "   "
     ],
     "language": "python",
     "metadata": {},
     "outputs": []
    },
    {
     "cell_type": "markdown",
     "metadata": {},
     "source": [
      "## Making Predictions\n",
      "\n",
      "Predictions can be made from the model of the appropriate rating for a given user, $i$, for a given film, $j$, by simply taking the inner product between their vectors $\\mathbf{u}_i$ and $\\mathbf{v}_j$. "
     ]
    },
    {
     "cell_type": "markdown",
     "metadata": {},
     "source": [
      "## Is Our Map Enough? Are Our Data Enough?\n",
      "\n",
      "Is two dimensions really enough to capture the complexity of humans and their artforms? Is that how shallow we are? On second thoughts, don't answer that. We would certainly like to think that we need more than two dimensions to capture our complexity. Extending our books and libraries analogy further, consider how we should place books that have a historical timeframe as well as some geographical location. Do we really want books from the 2nd World War to sit alongside books from the Roman Empire? Books on the American invasion of Sicily in 1943 are perhaps less related to books about Carthage than those that study the Jewish Revolt from 66-70 (in the Roman Province of Judaea---more History!). So books that relate to subjects which are closer in time should probably be stored together. However, a student of rebellion against empire may also be interested in the relationship between the Jewish Revolt of 66-70 and the Indian Rebellion of 1857 (against the British Empire), nearly 1800 years later. Whilst the technologies involved in these revolts would be different, they still involve people (who we argued could all be summarised by sets of numbers) and the *psychology* of those people is shared: a rebellious nation angainst their imperial masters, triggered by misrule with a religious and cultural background. To capture such nuances we would need further dimensions in our latent representation. But are further dimensions justified by the amount of data we have? Can we really understand the facets of a film that only has at most three or four ratings? One answer is to collect more data to justify extra dimensions. If you have got this far, maybe you'd like to 'fight on' against the imperial misrule of data, and consider the movielens 100k data below: many more ratings from many more users!"
     ]
    },
    {
     "cell_type": "markdown",
     "metadata": {},
     "source": [
      "## Going Further\n",
      "\n",
      "If you want to take this model further then you'll need more data. One possible source of data is the [`movielens` data set](http://grouplens.org/datasets/movielens/). They have data sets containing up to ten million movie ratings. The few ratings we were able to collect in the class are not enough to capture the rich structure underlying these films. Imagine if we assume that the ratings are uniformly distributed between 1 and 5. If you know something about information theory then you could use that to work out the maximum number of *bits* of information we could gain per rating. \n",
      "\n",
      "Now we'll download the movielens 100k data and see if we can extract information about these movies."
     ]
    },
    {
     "cell_type": "code",
     "collapsed": false,
     "input": [
      "import pods\n",
      "d = pods.datasets.movielens100k()\n",
      "Y=d['Y']\n",
      "Y.describe()"
     ],
     "language": "python",
     "metadata": {},
     "outputs": [
      {
       "output_type": "stream",
       "stream": "stdout",
       "text": [
        "Acquiring resource: movielens100k\n",
        "\n",
        "Details of data: \n",
        "MovieLens data sets were collected by the GroupLens Research Project at the University of Minnesota.\n",
        "\n",
        "This data set consists of:\n",
        "* 100,000 ratings (1-5) from 943 users on 1682 movies. \n",
        "* Each user has rated at least 20 movies. \n",
        "        * Simple demographic info for the users (age, gender, occupation, zip)\n",
        "\n",
        "The data was collected through the MovieLens web site (movielens.umn.edu) during the seven-month period from September 19th, 1997 through April 22nd, 1998. This data has been cleaned up - users who had less than 20 ratings or did not have complete demographic information were removed from this data set.\n",
        "\n",
        "Please cite:\n",
        "Herlocker, J., Konstan, J., Borchers, A., Riedl, J.. An Algorithmic Framework for Performing Collaborative Filtering. Proceedings of the 1999 Conference on Research and Development in Information Retrieval. Aug. 1999.\n",
        "\n",
        "After downloading the data will take up 536272 bytes of space.\n",
        "\n",
        "Data will be stored in /Users/neil/ods_data_cache/movielens100k.\n",
        "\n",
        "You must also agree to the following license:\n",
        "Neither the University of Minnesota nor any of the researchers involved can guarantee the correctness of the data, its suitability for any particular purpose, or the validity of results based on the use of the data set.  The data set may be used for any research purposes under the following conditions:\n",
        "\n",
        "     * The user may not state or imply any endorsement from the\n",
        "       University of Minnesota or the GroupLens Research Group.\n",
        "\n",
        "     * The user must acknowledge the use of the data set in\n",
        "       publications resulting from the use of the data set, and must\n",
        "       send us an electronic or paper copy of those publications.\n",
        "\n",
        "     * The user may not redistribute the data without separate\n",
        "       permission.\n",
        "\n",
        "     * The user may not use this information for any commercial or\n",
        "       revenue-bearing purposes without first obtaining permission\n",
        "       from a faculty member of the GroupLens Research Project at the\n",
        "       University of Minnesota.\n",
        "\n",
        "If you have any further questions or comments, please contact GroupLens <grouplens-info@cs.umn.edu>.\n",
        "\n",
        "Do you wish to proceed with the download? [yes/no]\n"
       ]
      },
      {
       "name": "stdout",
       "output_type": "stream",
       "stream": "stdout",
       "text": [
        "yes\n"
       ]
      },
      {
       "output_type": "stream",
       "stream": "stdout",
       "text": [
        "ml-100k.zip\n",
        "Downloading  http://files.grouplens.org/datasets/movielens/ml-100k.zip -> /Users/neil/ods_data_cache/movielens100k/ml-100k.zip\n",
        "\r"
       ]
      },
      {
       "output_type": "stream",
       "stream": "stdout",
       "text": [
        "[                              ]   0.008/4.717MB"
       ]
      },
      {
       "output_type": "stream",
       "stream": "stdout",
       "text": [
        "                                                \r",
        "[                              ]   0.016/4.717MB"
       ]
      },
      {
       "output_type": "stream",
       "stream": "stdout",
       "text": [
        "                                                \r",
        "[                              ]   0.023/4.717MB"
       ]
      },
      {
       "output_type": "stream",
       "stream": "stdout",
       "text": [
        "                                                \r",
        "[                              ]   0.031/4.717MB"
       ]
      },
      {
       "output_type": "stream",
       "stream": "stdout",
       "text": [
        "                                                \r",
        "[                              ]   0.039/4.717MB"
       ]
      },
      {
       "output_type": "stream",
       "stream": "stdout",
       "text": [
        "                                                \r",
        "[                              ]   0.047/4.717MB"
       ]
      },
      {
       "output_type": "stream",
       "stream": "stdout",
       "text": [
        "                                                \r",
        "[                              ]   0.055/4.717MB"
       ]
      },
      {
       "output_type": "stream",
       "stream": "stdout",
       "text": [
        "                                                \r",
        "[                              ]   0.062/4.717MB"
       ]
      },
      {
       "output_type": "stream",
       "stream": "stdout",
       "text": [
        "                                                \r",
        "[                              ]   0.070/4.717MB"
       ]
      },
      {
       "output_type": "stream",
       "stream": "stdout",
       "text": [
        "                                                \r",
        "[                              ]   0.078/4.717MB"
       ]
      },
      {
       "output_type": "stream",
       "stream": "stdout",
       "text": [
        "                                                \r",
        "[                              ]   0.086/4.717MB"
       ]
      },
      {
       "output_type": "stream",
       "stream": "stdout",
       "text": [
        "                                                \r",
        "[                              ]   0.094/4.717MB"
       ]
      },
      {
       "output_type": "stream",
       "stream": "stdout",
       "text": [
        "                                                \r",
        "[                              ]   0.102/4.717MB"
       ]
      },
      {
       "output_type": "stream",
       "stream": "stdout",
       "text": [
        "                                                \r",
        "[                              ]   0.109/4.717MB"
       ]
      },
      {
       "output_type": "stream",
       "stream": "stdout",
       "text": [
        "                                                \r",
        "[                              ]   0.117/4.717MB"
       ]
      },
      {
       "output_type": "stream",
       "stream": "stdout",
       "text": [
        "                                                \r",
        "[                              ]   0.125/4.717MB"
       ]
      },
      {
       "output_type": "stream",
       "stream": "stdout",
       "text": [
        "                                                \r",
        "[                              ]   0.133/4.717MB"
       ]
      },
      {
       "output_type": "stream",
       "stream": "stdout",
       "text": [
        "                                                \r",
        "[                              ]   0.141/4.717MB"
       ]
      },
      {
       "output_type": "stream",
       "stream": "stdout",
       "text": [
        "                                                \r",
        "[                              ]   0.148/4.717MB"
       ]
      },
      {
       "output_type": "stream",
       "stream": "stdout",
       "text": [
        "                                                \r",
        "[                              ]   0.156/4.717MB"
       ]
      },
      {
       "output_type": "stream",
       "stream": "stdout",
       "text": [
        "                                                \r",
        "[=                             ]   0.164/4.717MB"
       ]
      },
      {
       "output_type": "stream",
       "stream": "stdout",
       "text": [
        "                                                \r",
        "[=                             ]   0.172/4.717MB"
       ]
      },
      {
       "output_type": "stream",
       "stream": "stdout",
       "text": [
        "                                                \r",
        "[=                             ]   0.180/4.717MB"
       ]
      },
      {
       "output_type": "stream",
       "stream": "stdout",
       "text": [
        "                                                \r",
        "[=                             ]   0.188/4.717MB"
       ]
      },
      {
       "output_type": "stream",
       "stream": "stdout",
       "text": [
        "                                                \r",
        "[=                             ]   0.195/4.717MB"
       ]
      },
      {
       "output_type": "stream",
       "stream": "stdout",
       "text": [
        "                                                \r",
        "[=                             ]   0.203/4.717MB"
       ]
      },
      {
       "output_type": "stream",
       "stream": "stdout",
       "text": [
        "                                                \r",
        "[=                             ]   0.211/4.717MB"
       ]
      },
      {
       "output_type": "stream",
       "stream": "stdout",
       "text": [
        "                                                \r",
        "[=                             ]   0.219/4.717MB"
       ]
      },
      {
       "output_type": "stream",
       "stream": "stdout",
       "text": [
        "                                                \r",
        "[=                             ]   0.227/4.717MB"
       ]
      },
      {
       "output_type": "stream",
       "stream": "stdout",
       "text": [
        "                                                \r",
        "[=                             ]   0.234/4.717MB"
       ]
      },
      {
       "output_type": "stream",
       "stream": "stdout",
       "text": [
        "                                                \r",
        "[=                             ]   0.242/4.717MB"
       ]
      },
      {
       "output_type": "stream",
       "stream": "stdout",
       "text": [
        "                                                \r",
        "[=                             ]   0.250/4.717MB"
       ]
      },
      {
       "output_type": "stream",
       "stream": "stdout",
       "text": [
        "                                                \r",
        "[=                             ]   0.258/4.717MB"
       ]
      },
      {
       "output_type": "stream",
       "stream": "stdout",
       "text": [
        "                                                \r",
        "[=                             ]   0.266/4.717MB"
       ]
      },
      {
       "output_type": "stream",
       "stream": "stdout",
       "text": [
        "                                                \r",
        "[=                             ]   0.273/4.717MB"
       ]
      },
      {
       "output_type": "stream",
       "stream": "stdout",
       "text": [
        "                                                \r",
        "[=                             ]   0.281/4.717MB"
       ]
      },
      {
       "output_type": "stream",
       "stream": "stdout",
       "text": [
        "                                                \r",
        "[=                             ]   0.289/4.717MB"
       ]
      },
      {
       "output_type": "stream",
       "stream": "stdout",
       "text": [
        "                                                \r",
        "[=                             ]   0.297/4.717MB"
       ]
      },
      {
       "output_type": "stream",
       "stream": "stdout",
       "text": [
        "                                                \r",
        "[=                             ]   0.305/4.717MB"
       ]
      },
      {
       "output_type": "stream",
       "stream": "stdout",
       "text": [
        "                                                \r",
        "[=                             ]   0.312/4.717MB"
       ]
      },
      {
       "output_type": "stream",
       "stream": "stdout",
       "text": [
        "                                                \r",
        "[==                            ]   0.320/4.717MB"
       ]
      },
      {
       "output_type": "stream",
       "stream": "stdout",
       "text": [
        "                                                \r",
        "[==                            ]   0.328/4.717MB"
       ]
      },
      {
       "output_type": "stream",
       "stream": "stdout",
       "text": [
        "                                                \r",
        "[==                            ]   0.336/4.717MB"
       ]
      },
      {
       "output_type": "stream",
       "stream": "stdout",
       "text": [
        "                                                \r",
        "[==                            ]   0.344/4.717MB"
       ]
      },
      {
       "output_type": "stream",
       "stream": "stdout",
       "text": [
        "                                                \r",
        "[==                            ]   0.352/4.717MB"
       ]
      },
      {
       "output_type": "stream",
       "stream": "stdout",
       "text": [
        "                                                \r",
        "[==                            ]   0.359/4.717MB"
       ]
      },
      {
       "output_type": "stream",
       "stream": "stdout",
       "text": [
        "                                                \r",
        "[==                            ]   0.367/4.717MB"
       ]
      },
      {
       "output_type": "stream",
       "stream": "stdout",
       "text": [
        "                                                \r",
        "[==                            ]   0.375/4.717MB"
       ]
      },
      {
       "output_type": "stream",
       "stream": "stdout",
       "text": [
        "                                                \r",
        "[==                            ]   0.383/4.717MB"
       ]
      },
      {
       "output_type": "stream",
       "stream": "stdout",
       "text": [
        "                                                \r",
        "[==                            ]   0.391/4.717MB"
       ]
      },
      {
       "output_type": "stream",
       "stream": "stdout",
       "text": [
        "                                                \r",
        "[==                            ]   0.398/4.717MB"
       ]
      },
      {
       "output_type": "stream",
       "stream": "stdout",
       "text": [
        "                                                \r",
        "[==                            ]   0.406/4.717MB"
       ]
      },
      {
       "output_type": "stream",
       "stream": "stdout",
       "text": [
        "                                                \r",
        "[==                            ]   0.414/4.717MB"
       ]
      },
      {
       "output_type": "stream",
       "stream": "stdout",
       "text": [
        "                                                \r",
        "[==                            ]   0.422/4.717MB"
       ]
      },
      {
       "output_type": "stream",
       "stream": "stdout",
       "text": [
        "                                                \r",
        "[==                            ]   0.430/4.717MB"
       ]
      },
      {
       "output_type": "stream",
       "stream": "stdout",
       "text": [
        "                                                \r",
        "[==                            ]   0.438/4.717MB"
       ]
      },
      {
       "output_type": "stream",
       "stream": "stdout",
       "text": [
        "                                                \r",
        "[==                            ]   0.445/4.717MB"
       ]
      },
      {
       "output_type": "stream",
       "stream": "stdout",
       "text": [
        "                                                \r",
        "[==                            ]   0.453/4.717MB"
       ]
      },
      {
       "output_type": "stream",
       "stream": "stdout",
       "text": [
        "                                                \r",
        "[==                            ]   0.461/4.717MB"
       ]
      },
      {
       "output_type": "stream",
       "stream": "stdout",
       "text": [
        "                                                \r",
        "[==                            ]   0.469/4.717MB"
       ]
      },
      {
       "output_type": "stream",
       "stream": "stdout",
       "text": [
        "                                                \r",
        "[===                           ]   0.477/4.717MB"
       ]
      },
      {
       "output_type": "stream",
       "stream": "stdout",
       "text": [
        "                                                \r",
        "[===                           ]   0.484/4.717MB"
       ]
      },
      {
       "output_type": "stream",
       "stream": "stdout",
       "text": [
        "                                                \r",
        "[===                           ]   0.492/4.717MB"
       ]
      },
      {
       "output_type": "stream",
       "stream": "stdout",
       "text": [
        "                                                \r",
        "[===                           ]   0.500/4.717MB"
       ]
      },
      {
       "output_type": "stream",
       "stream": "stdout",
       "text": [
        "                                                \r",
        "[===                           ]   0.508/4.717MB"
       ]
      },
      {
       "output_type": "stream",
       "stream": "stdout",
       "text": [
        "                                                \r",
        "[===                           ]   0.516/4.717MB"
       ]
      },
      {
       "output_type": "stream",
       "stream": "stdout",
       "text": [
        "                                                \r",
        "[===                           ]   0.523/4.717MB"
       ]
      },
      {
       "output_type": "stream",
       "stream": "stdout",
       "text": [
        "                                                \r",
        "[===                           ]   0.531/4.717MB"
       ]
      },
      {
       "output_type": "stream",
       "stream": "stdout",
       "text": [
        "                                                \r",
        "[===                           ]   0.539/4.717MB"
       ]
      },
      {
       "output_type": "stream",
       "stream": "stdout",
       "text": [
        "                                                \r",
        "[===                           ]   0.547/4.717MB"
       ]
      },
      {
       "output_type": "stream",
       "stream": "stdout",
       "text": [
        "                                                \r",
        "[===                           ]   0.555/4.717MB"
       ]
      },
      {
       "output_type": "stream",
       "stream": "stdout",
       "text": [
        "                                                \r",
        "[===                           ]   0.562/4.717MB"
       ]
      },
      {
       "output_type": "stream",
       "stream": "stdout",
       "text": [
        "                                                \r",
        "[===                           ]   0.570/4.717MB"
       ]
      },
      {
       "output_type": "stream",
       "stream": "stdout",
       "text": [
        "                                                \r",
        "[===                           ]   0.578/4.717MB"
       ]
      },
      {
       "output_type": "stream",
       "stream": "stdout",
       "text": [
        "                                                \r",
        "[===                           ]   0.586/4.717MB"
       ]
      },
      {
       "output_type": "stream",
       "stream": "stdout",
       "text": [
        "                                                \r",
        "[===                           ]   0.594/4.717MB"
       ]
      },
      {
       "output_type": "stream",
       "stream": "stdout",
       "text": [
        "                                                \r",
        "[===                           ]   0.602/4.717MB"
       ]
      },
      {
       "output_type": "stream",
       "stream": "stdout",
       "text": [
        "                                                \r",
        "[===                           ]   0.609/4.717MB"
       ]
      },
      {
       "output_type": "stream",
       "stream": "stdout",
       "text": [
        "                                                \r",
        "[===                           ]   0.617/4.717MB"
       ]
      },
      {
       "output_type": "stream",
       "stream": "stdout",
       "text": [
        "                                                \r",
        "[===                           ]   0.625/4.717MB"
       ]
      },
      {
       "output_type": "stream",
       "stream": "stdout",
       "text": [
        "                                                \r",
        "[====                          ]   0.633/4.717MB"
       ]
      },
      {
       "output_type": "stream",
       "stream": "stdout",
       "text": [
        "                                                \r",
        "[====                          ]   0.641/4.717MB"
       ]
      },
      {
       "output_type": "stream",
       "stream": "stdout",
       "text": [
        "                                                \r",
        "[====                          ]   0.648/4.717MB"
       ]
      },
      {
       "output_type": "stream",
       "stream": "stdout",
       "text": [
        "                                                \r",
        "[====                          ]   0.656/4.717MB"
       ]
      },
      {
       "output_type": "stream",
       "stream": "stdout",
       "text": [
        "                                                \r",
        "[====                          ]   0.664/4.717MB"
       ]
      },
      {
       "output_type": "stream",
       "stream": "stdout",
       "text": [
        "                                                \r",
        "[====                          ]   0.672/4.717MB"
       ]
      },
      {
       "output_type": "stream",
       "stream": "stdout",
       "text": [
        "                                                \r",
        "[====                          ]   0.680/4.717MB"
       ]
      },
      {
       "output_type": "stream",
       "stream": "stdout",
       "text": [
        "                                                \r",
        "[====                          ]   0.688/4.717MB"
       ]
      },
      {
       "output_type": "stream",
       "stream": "stdout",
       "text": [
        "                                                \r",
        "[====                          ]   0.695/4.717MB"
       ]
      },
      {
       "output_type": "stream",
       "stream": "stdout",
       "text": [
        "                                                \r",
        "[====                          ]   0.703/4.717MB"
       ]
      },
      {
       "output_type": "stream",
       "stream": "stdout",
       "text": [
        "                                                \r",
        "[====                          ]   0.711/4.717MB"
       ]
      },
      {
       "output_type": "stream",
       "stream": "stdout",
       "text": [
        "                                                \r",
        "[====                          ]   0.719/4.717MB"
       ]
      },
      {
       "output_type": "stream",
       "stream": "stdout",
       "text": [
        "                                                \r",
        "[====                          ]   0.727/4.717MB"
       ]
      },
      {
       "output_type": "stream",
       "stream": "stdout",
       "text": [
        "                                                \r",
        "[====                          ]   0.734/4.717MB"
       ]
      },
      {
       "output_type": "stream",
       "stream": "stdout",
       "text": [
        "                                                \r",
        "[====                          ]   0.742/4.717MB"
       ]
      },
      {
       "output_type": "stream",
       "stream": "stdout",
       "text": [
        "                                                \r",
        "[====                          ]   0.750/4.717MB"
       ]
      },
      {
       "output_type": "stream",
       "stream": "stdout",
       "text": [
        "                                                \r",
        "[====                          ]   0.758/4.717MB"
       ]
      },
      {
       "output_type": "stream",
       "stream": "stdout",
       "text": [
        "                                                \r",
        "[====                          ]   0.766/4.717MB"
       ]
      },
      {
       "output_type": "stream",
       "stream": "stdout",
       "text": [
        "                                                \r",
        "[====                          ]   0.773/4.717MB"
       ]
      },
      {
       "output_type": "stream",
       "stream": "stdout",
       "text": [
        "                                                \r",
        "[====                          ]   0.781/4.717MB"
       ]
      },
      {
       "output_type": "stream",
       "stream": "stdout",
       "text": [
        "                                                \r",
        "[=====                         ]   0.789/4.717MB"
       ]
      },
      {
       "output_type": "stream",
       "stream": "stdout",
       "text": [
        "                                                \r",
        "[=====                         ]   0.797/4.717MB"
       ]
      },
      {
       "output_type": "stream",
       "stream": "stdout",
       "text": [
        "                                                \r",
        "[=====                         ]   0.805/4.717MB"
       ]
      },
      {
       "output_type": "stream",
       "stream": "stdout",
       "text": [
        "                                                \r",
        "[=====                         ]   0.812/4.717MB"
       ]
      },
      {
       "output_type": "stream",
       "stream": "stdout",
       "text": [
        "                                                \r",
        "[=====                         ]   0.820/4.717MB"
       ]
      },
      {
       "output_type": "stream",
       "stream": "stdout",
       "text": [
        "                                                \r",
        "[=====                         ]   0.828/4.717MB"
       ]
      },
      {
       "output_type": "stream",
       "stream": "stdout",
       "text": [
        "                                                \r",
        "[=====                         ]   0.836/4.717MB"
       ]
      },
      {
       "output_type": "stream",
       "stream": "stdout",
       "text": [
        "                                                \r",
        "[=====                         ]   0.844/4.717MB"
       ]
      },
      {
       "output_type": "stream",
       "stream": "stdout",
       "text": [
        "                                                \r",
        "[=====                         ]   0.852/4.717MB"
       ]
      },
      {
       "output_type": "stream",
       "stream": "stdout",
       "text": [
        "                                                \r",
        "[=====                         ]   0.859/4.717MB"
       ]
      },
      {
       "output_type": "stream",
       "stream": "stdout",
       "text": [
        "                                                \r",
        "[=====                         ]   0.867/4.717MB"
       ]
      },
      {
       "output_type": "stream",
       "stream": "stdout",
       "text": [
        "                                                \r",
        "[=====                         ]   0.875/4.717MB"
       ]
      },
      {
       "output_type": "stream",
       "stream": "stdout",
       "text": [
        "                                                \r",
        "[=====                         ]   0.883/4.717MB"
       ]
      },
      {
       "output_type": "stream",
       "stream": "stdout",
       "text": [
        "                                                \r",
        "[=====                         ]   0.891/4.717MB"
       ]
      },
      {
       "output_type": "stream",
       "stream": "stdout",
       "text": [
        "                                                \r",
        "[=====                         ]   0.898/4.717MB"
       ]
      },
      {
       "output_type": "stream",
       "stream": "stdout",
       "text": [
        "                                                \r",
        "[=====                         ]   0.906/4.717MB"
       ]
      },
      {
       "output_type": "stream",
       "stream": "stdout",
       "text": [
        "                                                \r",
        "[=====                         ]   0.914/4.717MB"
       ]
      },
      {
       "output_type": "stream",
       "stream": "stdout",
       "text": [
        "                                                \r",
        "[=====                         ]   0.922/4.717MB"
       ]
      },
      {
       "output_type": "stream",
       "stream": "stdout",
       "text": [
        "                                                \r",
        "[=====                         ]   0.930/4.717MB"
       ]
      },
      {
       "output_type": "stream",
       "stream": "stdout",
       "text": [
        "                                                \r",
        "[=====                         ]   0.938/4.717MB"
       ]
      },
      {
       "output_type": "stream",
       "stream": "stdout",
       "text": [
        "                                                \r",
        "[======                        ]   0.945/4.717MB"
       ]
      },
      {
       "output_type": "stream",
       "stream": "stdout",
       "text": [
        "                                                \r",
        "[======                        ]   0.953/4.717MB"
       ]
      },
      {
       "output_type": "stream",
       "stream": "stdout",
       "text": [
        "                                                \r",
        "[======                        ]   0.961/4.717MB"
       ]
      },
      {
       "output_type": "stream",
       "stream": "stdout",
       "text": [
        "                                                \r",
        "[======                        ]   0.969/4.717MB"
       ]
      },
      {
       "output_type": "stream",
       "stream": "stdout",
       "text": [
        "                                                \r",
        "[======                        ]   0.977/4.717MB"
       ]
      },
      {
       "output_type": "stream",
       "stream": "stdout",
       "text": [
        "                                                \r",
        "[======                        ]   0.984/4.717MB"
       ]
      },
      {
       "output_type": "stream",
       "stream": "stdout",
       "text": [
        "                                                \r",
        "[======                        ]   0.992/4.717MB"
       ]
      },
      {
       "output_type": "stream",
       "stream": "stdout",
       "text": [
        "                                                \r",
        "[======                        ]   1.000/4.717MB"
       ]
      },
      {
       "output_type": "stream",
       "stream": "stdout",
       "text": [
        "                                                \r",
        "[======                        ]   1.008/4.717MB"
       ]
      },
      {
       "output_type": "stream",
       "stream": "stdout",
       "text": [
        "                                                \r",
        "[======                        ]   1.016/4.717MB"
       ]
      },
      {
       "output_type": "stream",
       "stream": "stdout",
       "text": [
        "                                                \r",
        "[======                        ]   1.023/4.717MB"
       ]
      },
      {
       "output_type": "stream",
       "stream": "stdout",
       "text": [
        "                                                \r",
        "[======                        ]   1.031/4.717MB"
       ]
      },
      {
       "output_type": "stream",
       "stream": "stdout",
       "text": [
        "                                                \r",
        "[======                        ]   1.039/4.717MB"
       ]
      },
      {
       "output_type": "stream",
       "stream": "stdout",
       "text": [
        "                                                \r",
        "[======                        ]   1.047/4.717MB"
       ]
      },
      {
       "output_type": "stream",
       "stream": "stdout",
       "text": [
        "                                                \r",
        "[======                        ]   1.055/4.717MB"
       ]
      },
      {
       "output_type": "stream",
       "stream": "stdout",
       "text": [
        "                                                \r",
        "[======                        ]   1.062/4.717MB"
       ]
      },
      {
       "output_type": "stream",
       "stream": "stdout",
       "text": [
        "                                                \r",
        "[======                        ]   1.070/4.717MB"
       ]
      },
      {
       "output_type": "stream",
       "stream": "stdout",
       "text": [
        "                                                \r",
        "[======                        ]   1.078/4.717MB"
       ]
      },
      {
       "output_type": "stream",
       "stream": "stdout",
       "text": [
        "                                                \r",
        "[======                        ]   1.086/4.717MB"
       ]
      },
      {
       "output_type": "stream",
       "stream": "stdout",
       "text": [
        "                                                \r",
        "[======                        ]   1.094/4.717MB"
       ]
      },
      {
       "output_type": "stream",
       "stream": "stdout",
       "text": [
        "                                                \r",
        "[=======                       ]   1.102/4.717MB"
       ]
      },
      {
       "output_type": "stream",
       "stream": "stdout",
       "text": [
        "                                                \r",
        "[=======                       ]   1.109/4.717MB"
       ]
      },
      {
       "output_type": "stream",
       "stream": "stdout",
       "text": [
        "                                                \r",
        "[=======                       ]   1.117/4.717MB"
       ]
      },
      {
       "output_type": "stream",
       "stream": "stdout",
       "text": [
        "                                                \r",
        "[=======                       ]   1.125/4.717MB"
       ]
      },
      {
       "output_type": "stream",
       "stream": "stdout",
       "text": [
        "                                                \r",
        "[=======                       ]   1.133/4.717MB"
       ]
      },
      {
       "output_type": "stream",
       "stream": "stdout",
       "text": [
        "                                                \r",
        "[=======                       ]   1.141/4.717MB"
       ]
      },
      {
       "output_type": "stream",
       "stream": "stdout",
       "text": [
        "                                                \r",
        "[=======                       ]   1.148/4.717MB"
       ]
      },
      {
       "output_type": "stream",
       "stream": "stdout",
       "text": [
        "                                                \r",
        "[=======                       ]   1.156/4.717MB"
       ]
      },
      {
       "output_type": "stream",
       "stream": "stdout",
       "text": [
        "                                                \r",
        "[=======                       ]   1.164/4.717MB"
       ]
      },
      {
       "output_type": "stream",
       "stream": "stdout",
       "text": [
        "                                                \r",
        "[=======                       ]   1.172/4.717MB"
       ]
      },
      {
       "output_type": "stream",
       "stream": "stdout",
       "text": [
        "                                                \r",
        "[=======                       ]   1.180/4.717MB"
       ]
      },
      {
       "output_type": "stream",
       "stream": "stdout",
       "text": [
        "                                                \r",
        "[=======                       ]   1.188/4.717MB"
       ]
      },
      {
       "output_type": "stream",
       "stream": "stdout",
       "text": [
        "                                                \r",
        "[=======                       ]   1.195/4.717MB"
       ]
      },
      {
       "output_type": "stream",
       "stream": "stdout",
       "text": [
        "                                                \r",
        "[=======                       ]   1.203/4.717MB"
       ]
      },
      {
       "output_type": "stream",
       "stream": "stdout",
       "text": [
        "                                                \r",
        "[=======                       ]   1.211/4.717MB"
       ]
      },
      {
       "output_type": "stream",
       "stream": "stdout",
       "text": [
        "                                                \r",
        "[=======                       ]   1.219/4.717MB"
       ]
      },
      {
       "output_type": "stream",
       "stream": "stdout",
       "text": [
        "                                                \r",
        "[=======                       ]   1.227/4.717MB"
       ]
      },
      {
       "output_type": "stream",
       "stream": "stdout",
       "text": [
        "                                                \r",
        "[=======                       ]   1.234/4.717MB"
       ]
      },
      {
       "output_type": "stream",
       "stream": "stdout",
       "text": [
        "                                                \r",
        "[=======                       ]   1.242/4.717MB"
       ]
      },
      {
       "output_type": "stream",
       "stream": "stdout",
       "text": [
        "                                                \r",
        "[=======                       ]   1.250/4.717MB"
       ]
      },
      {
       "output_type": "stream",
       "stream": "stdout",
       "text": [
        "                                                \r",
        "[========                      ]   1.258/4.717MB"
       ]
      },
      {
       "output_type": "stream",
       "stream": "stdout",
       "text": [
        "                                                \r",
        "[========                      ]   1.266/4.717MB"
       ]
      },
      {
       "output_type": "stream",
       "stream": "stdout",
       "text": [
        "                                                \r",
        "[========                      ]   1.273/4.717MB"
       ]
      },
      {
       "output_type": "stream",
       "stream": "stdout",
       "text": [
        "                                                \r",
        "[========                      ]   1.281/4.717MB"
       ]
      },
      {
       "output_type": "stream",
       "stream": "stdout",
       "text": [
        "                                                \r",
        "[========                      ]   1.289/4.717MB"
       ]
      },
      {
       "output_type": "stream",
       "stream": "stdout",
       "text": [
        "                                                \r",
        "[========                      ]   1.297/4.717MB"
       ]
      },
      {
       "output_type": "stream",
       "stream": "stdout",
       "text": [
        "                                                \r",
        "[========                      ]   1.305/4.717MB"
       ]
      },
      {
       "output_type": "stream",
       "stream": "stdout",
       "text": [
        "                                                \r",
        "[========                      ]   1.312/4.717MB"
       ]
      },
      {
       "output_type": "stream",
       "stream": "stdout",
       "text": [
        "                                                \r",
        "[========                      ]   1.320/4.717MB"
       ]
      },
      {
       "output_type": "stream",
       "stream": "stdout",
       "text": [
        "                                                \r",
        "[========                      ]   1.328/4.717MB"
       ]
      },
      {
       "output_type": "stream",
       "stream": "stdout",
       "text": [
        "                                                \r",
        "[========                      ]   1.336/4.717MB"
       ]
      },
      {
       "output_type": "stream",
       "stream": "stdout",
       "text": [
        "                                                \r",
        "[========                      ]   1.344/4.717MB"
       ]
      },
      {
       "output_type": "stream",
       "stream": "stdout",
       "text": [
        "                                                \r",
        "[========                      ]   1.352/4.717MB"
       ]
      },
      {
       "output_type": "stream",
       "stream": "stdout",
       "text": [
        "                                                \r",
        "[========                      ]   1.359/4.717MB"
       ]
      },
      {
       "output_type": "stream",
       "stream": "stdout",
       "text": [
        "                                                \r",
        "[========                      ]   1.367/4.717MB"
       ]
      },
      {
       "output_type": "stream",
       "stream": "stdout",
       "text": [
        "                                                \r",
        "[========                      ]   1.375/4.717MB"
       ]
      },
      {
       "output_type": "stream",
       "stream": "stdout",
       "text": [
        "                                                \r",
        "[========                      ]   1.383/4.717MB"
       ]
      },
      {
       "output_type": "stream",
       "stream": "stdout",
       "text": [
        "                                                \r",
        "[========                      ]   1.391/4.717MB"
       ]
      },
      {
       "output_type": "stream",
       "stream": "stdout",
       "text": [
        "                                                \r",
        "[========                      ]   1.398/4.717MB"
       ]
      },
      {
       "output_type": "stream",
       "stream": "stdout",
       "text": [
        "                                                \r",
        "[========                      ]   1.406/4.717MB"
       ]
      },
      {
       "output_type": "stream",
       "stream": "stdout",
       "text": [
        "                                                \r",
        "[========                      ]   1.414/4.717MB"
       ]
      },
      {
       "output_type": "stream",
       "stream": "stdout",
       "text": [
        "                                                \r",
        "[=========                     ]   1.422/4.717MB"
       ]
      },
      {
       "output_type": "stream",
       "stream": "stdout",
       "text": [
        "                                                \r",
        "[=========                     ]   1.430/4.717MB"
       ]
      },
      {
       "output_type": "stream",
       "stream": "stdout",
       "text": [
        "                                                \r",
        "[=========                     ]   1.438/4.717MB"
       ]
      },
      {
       "output_type": "stream",
       "stream": "stdout",
       "text": [
        "                                                \r",
        "[=========                     ]   1.445/4.717MB"
       ]
      },
      {
       "output_type": "stream",
       "stream": "stdout",
       "text": [
        "                                                \r",
        "[=========                     ]   1.453/4.717MB"
       ]
      },
      {
       "output_type": "stream",
       "stream": "stdout",
       "text": [
        "                                                \r",
        "[=========                     ]   1.461/4.717MB"
       ]
      },
      {
       "output_type": "stream",
       "stream": "stdout",
       "text": [
        "                                                \r",
        "[=========                     ]   1.469/4.717MB"
       ]
      },
      {
       "output_type": "stream",
       "stream": "stdout",
       "text": [
        "                                                \r",
        "[=========                     ]   1.477/4.717MB"
       ]
      },
      {
       "output_type": "stream",
       "stream": "stdout",
       "text": [
        "                                                \r",
        "[=========                     ]   1.484/4.717MB"
       ]
      },
      {
       "output_type": "stream",
       "stream": "stdout",
       "text": [
        "                                                \r",
        "[=========                     ]   1.492/4.717MB"
       ]
      },
      {
       "output_type": "stream",
       "stream": "stdout",
       "text": [
        "                                                \r",
        "[=========                     ]   1.500/4.717MB"
       ]
      },
      {
       "output_type": "stream",
       "stream": "stdout",
       "text": [
        "                                                \r",
        "[=========                     ]   1.508/4.717MB"
       ]
      },
      {
       "output_type": "stream",
       "stream": "stdout",
       "text": [
        "                                                \r",
        "[=========                     ]   1.516/4.717MB"
       ]
      },
      {
       "output_type": "stream",
       "stream": "stdout",
       "text": [
        "                                                \r",
        "[=========                     ]   1.523/4.717MB"
       ]
      },
      {
       "output_type": "stream",
       "stream": "stdout",
       "text": [
        "                                                \r",
        "[=========                     ]   1.531/4.717MB"
       ]
      },
      {
       "output_type": "stream",
       "stream": "stdout",
       "text": [
        "                                                \r",
        "[=========                     ]   1.539/4.717MB"
       ]
      },
      {
       "output_type": "stream",
       "stream": "stdout",
       "text": [
        "                                                \r",
        "[=========                     ]   1.547/4.717MB"
       ]
      },
      {
       "output_type": "stream",
       "stream": "stdout",
       "text": [
        "                                                \r",
        "[=========                     ]   1.555/4.717MB"
       ]
      },
      {
       "output_type": "stream",
       "stream": "stdout",
       "text": [
        "                                                \r",
        "[=========                     ]   1.562/4.717MB"
       ]
      },
      {
       "output_type": "stream",
       "stream": "stdout",
       "text": [
        "                                                \r",
        "[=========                     ]   1.570/4.717MB"
       ]
      },
      {
       "output_type": "stream",
       "stream": "stdout",
       "text": [
        "                                                \r",
        "[==========                    ]   1.578/4.717MB"
       ]
      },
      {
       "output_type": "stream",
       "stream": "stdout",
       "text": [
        "                                                \r",
        "[==========                    ]   1.586/4.717MB"
       ]
      },
      {
       "output_type": "stream",
       "stream": "stdout",
       "text": [
        "                                                \r",
        "[==========                    ]   1.594/4.717MB"
       ]
      },
      {
       "output_type": "stream",
       "stream": "stdout",
       "text": [
        "                                                \r",
        "[==========                    ]   1.602/4.717MB"
       ]
      },
      {
       "output_type": "stream",
       "stream": "stdout",
       "text": [
        "                                                \r",
        "[==========                    ]   1.609/4.717MB"
       ]
      },
      {
       "output_type": "stream",
       "stream": "stdout",
       "text": [
        "                                                \r",
        "[==========                    ]   1.617/4.717MB"
       ]
      },
      {
       "output_type": "stream",
       "stream": "stdout",
       "text": [
        "                                                \r",
        "[==========                    ]   1.625/4.717MB"
       ]
      },
      {
       "output_type": "stream",
       "stream": "stdout",
       "text": [
        "                                                \r",
        "[==========                    ]   1.633/4.717MB"
       ]
      },
      {
       "output_type": "stream",
       "stream": "stdout",
       "text": [
        "                                                \r",
        "[==========                    ]   1.641/4.717MB"
       ]
      },
      {
       "output_type": "stream",
       "stream": "stdout",
       "text": [
        "                                                \r",
        "[==========                    ]   1.648/4.717MB"
       ]
      },
      {
       "output_type": "stream",
       "stream": "stdout",
       "text": [
        "                                                \r",
        "[==========                    ]   1.656/4.717MB"
       ]
      },
      {
       "output_type": "stream",
       "stream": "stdout",
       "text": [
        "                                                \r",
        "[==========                    ]   1.664/4.717MB"
       ]
      },
      {
       "output_type": "stream",
       "stream": "stdout",
       "text": [
        "                                                \r",
        "[==========                    ]   1.672/4.717MB"
       ]
      },
      {
       "output_type": "stream",
       "stream": "stdout",
       "text": [
        "                                                \r",
        "[==========                    ]   1.680/4.717MB"
       ]
      },
      {
       "output_type": "stream",
       "stream": "stdout",
       "text": [
        "                                                \r",
        "[==========                    ]   1.688/4.717MB"
       ]
      },
      {
       "output_type": "stream",
       "stream": "stdout",
       "text": [
        "                                                \r",
        "[==========                    ]   1.695/4.717MB"
       ]
      },
      {
       "output_type": "stream",
       "stream": "stdout",
       "text": [
        "                                                \r",
        "[==========                    ]   1.703/4.717MB"
       ]
      },
      {
       "output_type": "stream",
       "stream": "stdout",
       "text": [
        "                                                \r",
        "[==========                    ]   1.711/4.717MB"
       ]
      },
      {
       "output_type": "stream",
       "stream": "stdout",
       "text": [
        "                                                \r",
        "[==========                    ]   1.719/4.717MB"
       ]
      },
      {
       "output_type": "stream",
       "stream": "stdout",
       "text": [
        "                                                \r",
        "[==========                    ]   1.727/4.717MB"
       ]
      },
      {
       "output_type": "stream",
       "stream": "stdout",
       "text": [
        "                                                \r",
        "[===========                   ]   1.734/4.717MB"
       ]
      },
      {
       "output_type": "stream",
       "stream": "stdout",
       "text": [
        "                                                \r",
        "[===========                   ]   1.742/4.717MB"
       ]
      },
      {
       "output_type": "stream",
       "stream": "stdout",
       "text": [
        "                                                \r",
        "[===========                   ]   1.750/4.717MB"
       ]
      },
      {
       "output_type": "stream",
       "stream": "stdout",
       "text": [
        "                                                \r",
        "[===========                   ]   1.758/4.717MB"
       ]
      },
      {
       "output_type": "stream",
       "stream": "stdout",
       "text": [
        "                                                \r",
        "[===========                   ]   1.766/4.717MB"
       ]
      },
      {
       "output_type": "stream",
       "stream": "stdout",
       "text": [
        "                                                \r",
        "[===========                   ]   1.773/4.717MB"
       ]
      },
      {
       "output_type": "stream",
       "stream": "stdout",
       "text": [
        "                                                \r",
        "[===========                   ]   1.781/4.717MB"
       ]
      },
      {
       "output_type": "stream",
       "stream": "stdout",
       "text": [
        "                                                \r",
        "[===========                   ]   1.789/4.717MB"
       ]
      },
      {
       "output_type": "stream",
       "stream": "stdout",
       "text": [
        "                                                \r",
        "[===========                   ]   1.797/4.717MB"
       ]
      },
      {
       "output_type": "stream",
       "stream": "stdout",
       "text": [
        "                                                \r",
        "[===========                   ]   1.805/4.717MB"
       ]
      },
      {
       "output_type": "stream",
       "stream": "stdout",
       "text": [
        "                                                \r",
        "[===========                   ]   1.812/4.717MB"
       ]
      },
      {
       "output_type": "stream",
       "stream": "stdout",
       "text": [
        "                                                \r",
        "[===========                   ]   1.820/4.717MB"
       ]
      },
      {
       "output_type": "stream",
       "stream": "stdout",
       "text": [
        "                                                \r",
        "[===========                   ]   1.828/4.717MB"
       ]
      },
      {
       "output_type": "stream",
       "stream": "stdout",
       "text": [
        "                                                \r",
        "[===========                   ]   1.836/4.717MB"
       ]
      },
      {
       "output_type": "stream",
       "stream": "stdout",
       "text": [
        "                                                \r",
        "[===========                   ]   1.844/4.717MB"
       ]
      },
      {
       "output_type": "stream",
       "stream": "stdout",
       "text": [
        "                                                \r",
        "[===========                   ]   1.852/4.717MB"
       ]
      },
      {
       "output_type": "stream",
       "stream": "stdout",
       "text": [
        "                                                \r",
        "[===========                   ]   1.859/4.717MB"
       ]
      },
      {
       "output_type": "stream",
       "stream": "stdout",
       "text": [
        "                                                \r",
        "[===========                   ]   1.867/4.717MB"
       ]
      },
      {
       "output_type": "stream",
       "stream": "stdout",
       "text": [
        "                                                \r",
        "[===========                   ]   1.875/4.717MB"
       ]
      },
      {
       "output_type": "stream",
       "stream": "stdout",
       "text": [
        "                                                \r",
        "[===========                   ]   1.883/4.717MB"
       ]
      },
      {
       "output_type": "stream",
       "stream": "stdout",
       "text": [
        "                                                \r",
        "[============                  ]   1.891/4.717MB"
       ]
      },
      {
       "output_type": "stream",
       "stream": "stdout",
       "text": [
        "                                                \r",
        "[============                  ]   1.898/4.717MB"
       ]
      },
      {
       "output_type": "stream",
       "stream": "stdout",
       "text": [
        "                                                \r",
        "[============                  ]   1.906/4.717MB"
       ]
      },
      {
       "output_type": "stream",
       "stream": "stdout",
       "text": [
        "                                                \r",
        "[============                  ]   1.914/4.717MB"
       ]
      },
      {
       "output_type": "stream",
       "stream": "stdout",
       "text": [
        "                                                \r",
        "[============                  ]   1.922/4.717MB"
       ]
      },
      {
       "output_type": "stream",
       "stream": "stdout",
       "text": [
        "                                                \r",
        "[============                  ]   1.930/4.717MB"
       ]
      },
      {
       "output_type": "stream",
       "stream": "stdout",
       "text": [
        "                                                \r",
        "[============                  ]   1.938/4.717MB"
       ]
      },
      {
       "output_type": "stream",
       "stream": "stdout",
       "text": [
        "                                                \r",
        "[============                  ]   1.945/4.717MB"
       ]
      },
      {
       "output_type": "stream",
       "stream": "stdout",
       "text": [
        "                                                \r",
        "[============                  ]   1.953/4.717MB"
       ]
      },
      {
       "output_type": "stream",
       "stream": "stdout",
       "text": [
        "                                                \r",
        "[============                  ]   1.961/4.717MB"
       ]
      },
      {
       "output_type": "stream",
       "stream": "stdout",
       "text": [
        "                                                \r",
        "[============                  ]   1.969/4.717MB"
       ]
      },
      {
       "output_type": "stream",
       "stream": "stdout",
       "text": [
        "                                                \r",
        "[============                  ]   1.977/4.717MB"
       ]
      },
      {
       "output_type": "stream",
       "stream": "stdout",
       "text": [
        "                                                \r",
        "[============                  ]   1.984/4.717MB"
       ]
      },
      {
       "output_type": "stream",
       "stream": "stdout",
       "text": [
        "                                                \r",
        "[============                  ]   1.992/4.717MB"
       ]
      },
      {
       "output_type": "stream",
       "stream": "stdout",
       "text": [
        "                                                \r",
        "[============                  ]   2.000/4.717MB"
       ]
      },
      {
       "output_type": "stream",
       "stream": "stdout",
       "text": [
        "                                                \r",
        "[============                  ]   2.008/4.717MB"
       ]
      },
      {
       "output_type": "stream",
       "stream": "stdout",
       "text": [
        "                                                \r",
        "[============                  ]   2.016/4.717MB"
       ]
      },
      {
       "output_type": "stream",
       "stream": "stdout",
       "text": [
        "                                                \r",
        "[============                  ]   2.023/4.717MB"
       ]
      },
      {
       "output_type": "stream",
       "stream": "stdout",
       "text": [
        "                                                \r",
        "[============                  ]   2.031/4.717MB"
       ]
      },
      {
       "output_type": "stream",
       "stream": "stdout",
       "text": [
        "                                                \r",
        "[============                  ]   2.039/4.717MB"
       ]
      },
      {
       "output_type": "stream",
       "stream": "stdout",
       "text": [
        "                                                \r",
        "[=============                 ]   2.047/4.717MB"
       ]
      },
      {
       "output_type": "stream",
       "stream": "stdout",
       "text": [
        "                                                \r",
        "[=============                 ]   2.055/4.717MB"
       ]
      },
      {
       "output_type": "stream",
       "stream": "stdout",
       "text": [
        "                                                \r",
        "[=============                 ]   2.062/4.717MB"
       ]
      },
      {
       "output_type": "stream",
       "stream": "stdout",
       "text": [
        "                                                \r",
        "[=============                 ]   2.070/4.717MB"
       ]
      },
      {
       "output_type": "stream",
       "stream": "stdout",
       "text": [
        "                                                \r",
        "[=============                 ]   2.078/4.717MB"
       ]
      },
      {
       "output_type": "stream",
       "stream": "stdout",
       "text": [
        "                                                \r",
        "[=============                 ]   2.086/4.717MB"
       ]
      },
      {
       "output_type": "stream",
       "stream": "stdout",
       "text": [
        "                                                \r",
        "[=============                 ]   2.094/4.717MB"
       ]
      },
      {
       "output_type": "stream",
       "stream": "stdout",
       "text": [
        "                                                \r",
        "[=============                 ]   2.102/4.717MB"
       ]
      },
      {
       "output_type": "stream",
       "stream": "stdout",
       "text": [
        "                                                \r",
        "[=============                 ]   2.109/4.717MB"
       ]
      },
      {
       "output_type": "stream",
       "stream": "stdout",
       "text": [
        "                                                \r",
        "[=============                 ]   2.117/4.717MB"
       ]
      },
      {
       "output_type": "stream",
       "stream": "stdout",
       "text": [
        "                                                \r",
        "[=============                 ]   2.125/4.717MB"
       ]
      },
      {
       "output_type": "stream",
       "stream": "stdout",
       "text": [
        "                                                \r",
        "[=============                 ]   2.133/4.717MB"
       ]
      },
      {
       "output_type": "stream",
       "stream": "stdout",
       "text": [
        "                                                \r",
        "[=============                 ]   2.141/4.717MB"
       ]
      },
      {
       "output_type": "stream",
       "stream": "stdout",
       "text": [
        "                                                \r",
        "[=============                 ]   2.148/4.717MB"
       ]
      },
      {
       "output_type": "stream",
       "stream": "stdout",
       "text": [
        "                                                \r",
        "[=============                 ]   2.156/4.717MB"
       ]
      },
      {
       "output_type": "stream",
       "stream": "stdout",
       "text": [
        "                                                \r",
        "[=============                 ]   2.164/4.717MB"
       ]
      },
      {
       "output_type": "stream",
       "stream": "stdout",
       "text": [
        "                                                \r",
        "[=============                 ]   2.172/4.717MB"
       ]
      },
      {
       "output_type": "stream",
       "stream": "stdout",
       "text": [
        "                                                \r",
        "[=============                 ]   2.180/4.717MB"
       ]
      },
      {
       "output_type": "stream",
       "stream": "stdout",
       "text": [
        "                                                \r",
        "[=============                 ]   2.188/4.717MB"
       ]
      },
      {
       "output_type": "stream",
       "stream": "stdout",
       "text": [
        "                                                \r",
        "[=============                 ]   2.195/4.717MB"
       ]
      },
      {
       "output_type": "stream",
       "stream": "stdout",
       "text": [
        "                                                \r",
        "[==============                ]   2.203/4.717MB"
       ]
      },
      {
       "output_type": "stream",
       "stream": "stdout",
       "text": [
        "                                                \r",
        "[==============                ]   2.211/4.717MB"
       ]
      },
      {
       "output_type": "stream",
       "stream": "stdout",
       "text": [
        "                                                \r",
        "[==============                ]   2.219/4.717MB"
       ]
      },
      {
       "output_type": "stream",
       "stream": "stdout",
       "text": [
        "                                                \r",
        "[==============                ]   2.227/4.717MB"
       ]
      },
      {
       "output_type": "stream",
       "stream": "stdout",
       "text": [
        "                                                \r",
        "[==============                ]   2.234/4.717MB"
       ]
      },
      {
       "output_type": "stream",
       "stream": "stdout",
       "text": [
        "                                                \r",
        "[==============                ]   2.242/4.717MB"
       ]
      },
      {
       "output_type": "stream",
       "stream": "stdout",
       "text": [
        "                                                \r",
        "[==============                ]   2.250/4.717MB"
       ]
      },
      {
       "output_type": "stream",
       "stream": "stdout",
       "text": [
        "                                                \r",
        "[==============                ]   2.258/4.717MB"
       ]
      },
      {
       "output_type": "stream",
       "stream": "stdout",
       "text": [
        "                                                \r",
        "[==============                ]   2.266/4.717MB"
       ]
      },
      {
       "output_type": "stream",
       "stream": "stdout",
       "text": [
        "                                                \r",
        "[==============                ]   2.273/4.717MB"
       ]
      },
      {
       "output_type": "stream",
       "stream": "stdout",
       "text": [
        "                                                \r",
        "[==============                ]   2.281/4.717MB"
       ]
      },
      {
       "output_type": "stream",
       "stream": "stdout",
       "text": [
        "                                                \r",
        "[==============                ]   2.289/4.717MB"
       ]
      },
      {
       "output_type": "stream",
       "stream": "stdout",
       "text": [
        "                                                \r",
        "[==============                ]   2.297/4.717MB"
       ]
      },
      {
       "output_type": "stream",
       "stream": "stdout",
       "text": [
        "                                                \r",
        "[==============                ]   2.305/4.717MB"
       ]
      },
      {
       "output_type": "stream",
       "stream": "stdout",
       "text": [
        "                                                \r",
        "[==============                ]   2.312/4.717MB"
       ]
      },
      {
       "output_type": "stream",
       "stream": "stdout",
       "text": [
        "                                                \r",
        "[==============                ]   2.320/4.717MB"
       ]
      },
      {
       "output_type": "stream",
       "stream": "stdout",
       "text": [
        "                                                \r",
        "[==============                ]   2.328/4.717MB"
       ]
      },
      {
       "output_type": "stream",
       "stream": "stdout",
       "text": [
        "                                                \r",
        "[==============                ]   2.336/4.717MB"
       ]
      },
      {
       "output_type": "stream",
       "stream": "stdout",
       "text": [
        "                                                \r",
        "[==============                ]   2.344/4.717MB"
       ]
      },
      {
       "output_type": "stream",
       "stream": "stdout",
       "text": [
        "                                                \r",
        "[==============                ]   2.352/4.717MB"
       ]
      },
      {
       "output_type": "stream",
       "stream": "stdout",
       "text": [
        "                                                \r",
        "[===============               ]   2.359/4.717MB"
       ]
      },
      {
       "output_type": "stream",
       "stream": "stdout",
       "text": [
        "                                                \r",
        "[===============               ]   2.367/4.717MB"
       ]
      },
      {
       "output_type": "stream",
       "stream": "stdout",
       "text": [
        "                                                \r",
        "[===============               ]   2.375/4.717MB"
       ]
      },
      {
       "output_type": "stream",
       "stream": "stdout",
       "text": [
        "                                                \r",
        "[===============               ]   2.383/4.717MB"
       ]
      },
      {
       "output_type": "stream",
       "stream": "stdout",
       "text": [
        "                                                \r",
        "[===============               ]   2.391/4.717MB"
       ]
      },
      {
       "output_type": "stream",
       "stream": "stdout",
       "text": [
        "                                                \r",
        "[===============               ]   2.398/4.717MB"
       ]
      },
      {
       "output_type": "stream",
       "stream": "stdout",
       "text": [
        "                                                \r",
        "[===============               ]   2.406/4.717MB"
       ]
      },
      {
       "output_type": "stream",
       "stream": "stdout",
       "text": [
        "                                                \r",
        "[===============               ]   2.414/4.717MB"
       ]
      },
      {
       "output_type": "stream",
       "stream": "stdout",
       "text": [
        "                                                \r",
        "[===============               ]   2.422/4.717MB"
       ]
      },
      {
       "output_type": "stream",
       "stream": "stdout",
       "text": [
        "                                                \r",
        "[===============               ]   2.430/4.717MB"
       ]
      },
      {
       "output_type": "stream",
       "stream": "stdout",
       "text": [
        "                                                \r",
        "[===============               ]   2.438/4.717MB"
       ]
      },
      {
       "output_type": "stream",
       "stream": "stdout",
       "text": [
        "                                                \r",
        "[===============               ]   2.445/4.717MB"
       ]
      },
      {
       "output_type": "stream",
       "stream": "stdout",
       "text": [
        "                                                \r",
        "[===============               ]   2.453/4.717MB"
       ]
      },
      {
       "output_type": "stream",
       "stream": "stdout",
       "text": [
        "                                                \r",
        "[===============               ]   2.461/4.717MB"
       ]
      },
      {
       "output_type": "stream",
       "stream": "stdout",
       "text": [
        "                                                \r",
        "[===============               ]   2.469/4.717MB"
       ]
      },
      {
       "output_type": "stream",
       "stream": "stdout",
       "text": [
        "                                                \r",
        "[===============               ]   2.477/4.717MB"
       ]
      },
      {
       "output_type": "stream",
       "stream": "stdout",
       "text": [
        "                                                \r",
        "[===============               ]   2.484/4.717MB"
       ]
      },
      {
       "output_type": "stream",
       "stream": "stdout",
       "text": [
        "                                                \r",
        "[===============               ]   2.492/4.717MB"
       ]
      },
      {
       "output_type": "stream",
       "stream": "stdout",
       "text": [
        "                                                \r",
        "[===============               ]   2.500/4.717MB"
       ]
      },
      {
       "output_type": "stream",
       "stream": "stdout",
       "text": [
        "                                                \r",
        "[===============               ]   2.508/4.717MB"
       ]
      },
      {
       "output_type": "stream",
       "stream": "stdout",
       "text": [
        "                                                \r",
        "[================              ]   2.516/4.717MB"
       ]
      },
      {
       "output_type": "stream",
       "stream": "stdout",
       "text": [
        "                                                \r",
        "[================              ]   2.523/4.717MB"
       ]
      },
      {
       "output_type": "stream",
       "stream": "stdout",
       "text": [
        "                                                \r",
        "[================              ]   2.531/4.717MB"
       ]
      },
      {
       "output_type": "stream",
       "stream": "stdout",
       "text": [
        "                                                \r",
        "[================              ]   2.539/4.717MB"
       ]
      },
      {
       "output_type": "stream",
       "stream": "stdout",
       "text": [
        "                                                \r",
        "[================              ]   2.547/4.717MB"
       ]
      },
      {
       "output_type": "stream",
       "stream": "stdout",
       "text": [
        "                                                \r",
        "[================              ]   2.555/4.717MB"
       ]
      },
      {
       "output_type": "stream",
       "stream": "stdout",
       "text": [
        "                                                \r",
        "[================              ]   2.562/4.717MB"
       ]
      },
      {
       "output_type": "stream",
       "stream": "stdout",
       "text": [
        "                                                \r",
        "[================              ]   2.570/4.717MB"
       ]
      },
      {
       "output_type": "stream",
       "stream": "stdout",
       "text": [
        "                                                \r",
        "[================              ]   2.578/4.717MB"
       ]
      },
      {
       "output_type": "stream",
       "stream": "stdout",
       "text": [
        "                                                \r",
        "[================              ]   2.586/4.717MB"
       ]
      },
      {
       "output_type": "stream",
       "stream": "stdout",
       "text": [
        "                                                \r",
        "[================              ]   2.594/4.717MB"
       ]
      },
      {
       "output_type": "stream",
       "stream": "stdout",
       "text": [
        "                                                \r",
        "[================              ]   2.602/4.717MB"
       ]
      },
      {
       "output_type": "stream",
       "stream": "stdout",
       "text": [
        "                                                \r",
        "[================              ]   2.609/4.717MB"
       ]
      },
      {
       "output_type": "stream",
       "stream": "stdout",
       "text": [
        "                                                \r",
        "[================              ]   2.617/4.717MB"
       ]
      },
      {
       "output_type": "stream",
       "stream": "stdout",
       "text": [
        "                                                \r",
        "[================              ]   2.625/4.717MB"
       ]
      },
      {
       "output_type": "stream",
       "stream": "stdout",
       "text": [
        "                                                \r",
        "[================              ]   2.633/4.717MB"
       ]
      },
      {
       "output_type": "stream",
       "stream": "stdout",
       "text": [
        "                                                \r",
        "[================              ]   2.641/4.717MB"
       ]
      },
      {
       "output_type": "stream",
       "stream": "stdout",
       "text": [
        "                                                \r",
        "[================              ]   2.648/4.717MB"
       ]
      },
      {
       "output_type": "stream",
       "stream": "stdout",
       "text": [
        "                                                \r",
        "[================              ]   2.656/4.717MB"
       ]
      },
      {
       "output_type": "stream",
       "stream": "stdout",
       "text": [
        "                                                \r",
        "[================              ]   2.664/4.717MB"
       ]
      },
      {
       "output_type": "stream",
       "stream": "stdout",
       "text": [
        "                                                \r",
        "[================              ]   2.672/4.717MB"
       ]
      },
      {
       "output_type": "stream",
       "stream": "stdout",
       "text": [
        "                                                \r",
        "[=================             ]   2.680/4.717MB"
       ]
      },
      {
       "output_type": "stream",
       "stream": "stdout",
       "text": [
        "                                                \r",
        "[=================             ]   2.688/4.717MB"
       ]
      },
      {
       "output_type": "stream",
       "stream": "stdout",
       "text": [
        "                                                \r",
        "[=================             ]   2.695/4.717MB"
       ]
      },
      {
       "output_type": "stream",
       "stream": "stdout",
       "text": [
        "                                                \r",
        "[=================             ]   2.703/4.717MB"
       ]
      },
      {
       "output_type": "stream",
       "stream": "stdout",
       "text": [
        "                                                \r",
        "[=================             ]   2.711/4.717MB"
       ]
      },
      {
       "output_type": "stream",
       "stream": "stdout",
       "text": [
        "                                                \r",
        "[=================             ]   2.719/4.717MB"
       ]
      },
      {
       "output_type": "stream",
       "stream": "stdout",
       "text": [
        "                                                \r",
        "[=================             ]   2.727/4.717MB"
       ]
      },
      {
       "output_type": "stream",
       "stream": "stdout",
       "text": [
        "                                                \r",
        "[=================             ]   2.734/4.717MB"
       ]
      },
      {
       "output_type": "stream",
       "stream": "stdout",
       "text": [
        "                                                \r",
        "[=================             ]   2.742/4.717MB"
       ]
      },
      {
       "output_type": "stream",
       "stream": "stdout",
       "text": [
        "                                                \r",
        "[=================             ]   2.750/4.717MB"
       ]
      },
      {
       "output_type": "stream",
       "stream": "stdout",
       "text": [
        "                                                \r",
        "[=================             ]   2.758/4.717MB"
       ]
      },
      {
       "output_type": "stream",
       "stream": "stdout",
       "text": [
        "                                                \r",
        "[=================             ]   2.766/4.717MB"
       ]
      },
      {
       "output_type": "stream",
       "stream": "stdout",
       "text": [
        "                                                \r",
        "[=================             ]   2.773/4.717MB"
       ]
      },
      {
       "output_type": "stream",
       "stream": "stdout",
       "text": [
        "                                                \r",
        "[=================             ]   2.781/4.717MB"
       ]
      },
      {
       "output_type": "stream",
       "stream": "stdout",
       "text": [
        "                                                \r",
        "[=================             ]   2.789/4.717MB"
       ]
      },
      {
       "output_type": "stream",
       "stream": "stdout",
       "text": [
        "                                                \r",
        "[=================             ]   2.797/4.717MB"
       ]
      },
      {
       "output_type": "stream",
       "stream": "stdout",
       "text": [
        "                                                \r",
        "[=================             ]   2.805/4.717MB"
       ]
      },
      {
       "output_type": "stream",
       "stream": "stdout",
       "text": [
        "                                                \r",
        "[=================             ]   2.812/4.717MB"
       ]
      },
      {
       "output_type": "stream",
       "stream": "stdout",
       "text": [
        "                                                \r",
        "[=================             ]   2.820/4.717MB"
       ]
      },
      {
       "output_type": "stream",
       "stream": "stdout",
       "text": [
        "                                                \r",
        "[=================             ]   2.828/4.717MB"
       ]
      },
      {
       "output_type": "stream",
       "stream": "stdout",
       "text": [
        "                                                \r",
        "[==================            ]   2.836/4.717MB"
       ]
      },
      {
       "output_type": "stream",
       "stream": "stdout",
       "text": [
        "                                                \r",
        "[==================            ]   2.844/4.717MB"
       ]
      },
      {
       "output_type": "stream",
       "stream": "stdout",
       "text": [
        "                                                \r",
        "[==================            ]   2.852/4.717MB"
       ]
      },
      {
       "output_type": "stream",
       "stream": "stdout",
       "text": [
        "                                                \r",
        "[==================            ]   2.859/4.717MB"
       ]
      },
      {
       "output_type": "stream",
       "stream": "stdout",
       "text": [
        "                                                \r",
        "[==================            ]   2.867/4.717MB"
       ]
      },
      {
       "output_type": "stream",
       "stream": "stdout",
       "text": [
        "                                                \r",
        "[==================            ]   2.875/4.717MB"
       ]
      },
      {
       "output_type": "stream",
       "stream": "stdout",
       "text": [
        "                                                \r",
        "[==================            ]   2.883/4.717MB"
       ]
      },
      {
       "output_type": "stream",
       "stream": "stdout",
       "text": [
        "                                                \r",
        "[==================            ]   2.891/4.717MB"
       ]
      },
      {
       "output_type": "stream",
       "stream": "stdout",
       "text": [
        "                                                \r",
        "[==================            ]   2.898/4.717MB"
       ]
      },
      {
       "output_type": "stream",
       "stream": "stdout",
       "text": [
        "                                                \r",
        "[==================            ]   2.906/4.717MB"
       ]
      },
      {
       "output_type": "stream",
       "stream": "stdout",
       "text": [
        "                                                \r",
        "[==================            ]   2.914/4.717MB"
       ]
      },
      {
       "output_type": "stream",
       "stream": "stdout",
       "text": [
        "                                                \r",
        "[==================            ]   2.922/4.717MB"
       ]
      },
      {
       "output_type": "stream",
       "stream": "stdout",
       "text": [
        "                                                \r",
        "[==================            ]   2.930/4.717MB"
       ]
      },
      {
       "output_type": "stream",
       "stream": "stdout",
       "text": [
        "                                                \r",
        "[==================            ]   2.938/4.717MB"
       ]
      },
      {
       "output_type": "stream",
       "stream": "stdout",
       "text": [
        "                                                \r",
        "[==================            ]   2.945/4.717MB"
       ]
      },
      {
       "output_type": "stream",
       "stream": "stdout",
       "text": [
        "                                                \r",
        "[==================            ]   2.953/4.717MB"
       ]
      },
      {
       "output_type": "stream",
       "stream": "stdout",
       "text": [
        "                                                \r",
        "[==================            ]   2.961/4.717MB"
       ]
      },
      {
       "output_type": "stream",
       "stream": "stdout",
       "text": [
        "                                                \r",
        "[==================            ]   2.969/4.717MB"
       ]
      },
      {
       "output_type": "stream",
       "stream": "stdout",
       "text": [
        "                                                \r",
        "[==================            ]   2.977/4.717MB"
       ]
      },
      {
       "output_type": "stream",
       "stream": "stdout",
       "text": [
        "                                                \r",
        "[==================            ]   2.984/4.717MB"
       ]
      },
      {
       "output_type": "stream",
       "stream": "stdout",
       "text": [
        "                                                \r",
        "[===================           ]   2.992/4.717MB"
       ]
      },
      {
       "output_type": "stream",
       "stream": "stdout",
       "text": [
        "                                                \r",
        "[===================           ]   3.000/4.717MB"
       ]
      },
      {
       "output_type": "stream",
       "stream": "stdout",
       "text": [
        "                                                \r",
        "[===================           ]   3.008/4.717MB"
       ]
      },
      {
       "output_type": "stream",
       "stream": "stdout",
       "text": [
        "                                                \r",
        "[===================           ]   3.016/4.717MB"
       ]
      },
      {
       "output_type": "stream",
       "stream": "stdout",
       "text": [
        "                                                \r",
        "[===================           ]   3.023/4.717MB"
       ]
      },
      {
       "output_type": "stream",
       "stream": "stdout",
       "text": [
        "                                                \r",
        "[===================           ]   3.031/4.717MB"
       ]
      },
      {
       "output_type": "stream",
       "stream": "stdout",
       "text": [
        "                                                \r",
        "[===================           ]   3.039/4.717MB"
       ]
      },
      {
       "output_type": "stream",
       "stream": "stdout",
       "text": [
        "                                                \r",
        "[===================           ]   3.047/4.717MB"
       ]
      },
      {
       "output_type": "stream",
       "stream": "stdout",
       "text": [
        "                                                \r",
        "[===================           ]   3.055/4.717MB"
       ]
      },
      {
       "output_type": "stream",
       "stream": "stdout",
       "text": [
        "                                                \r",
        "[===================           ]   3.062/4.717MB"
       ]
      },
      {
       "output_type": "stream",
       "stream": "stdout",
       "text": [
        "                                                \r",
        "[===================           ]   3.070/4.717MB"
       ]
      },
      {
       "output_type": "stream",
       "stream": "stdout",
       "text": [
        "                                                \r",
        "[===================           ]   3.078/4.717MB"
       ]
      },
      {
       "output_type": "stream",
       "stream": "stdout",
       "text": [
        "                                                \r",
        "[===================           ]   3.086/4.717MB"
       ]
      },
      {
       "output_type": "stream",
       "stream": "stdout",
       "text": [
        "                                                \r",
        "[===================           ]   3.094/4.717MB"
       ]
      },
      {
       "output_type": "stream",
       "stream": "stdout",
       "text": [
        "                                                \r",
        "[===================           ]   3.102/4.717MB"
       ]
      },
      {
       "output_type": "stream",
       "stream": "stdout",
       "text": [
        "                                                \r",
        "[===================           ]   3.109/4.717MB"
       ]
      },
      {
       "output_type": "stream",
       "stream": "stdout",
       "text": [
        "                                                \r",
        "[===================           ]   3.117/4.717MB"
       ]
      },
      {
       "output_type": "stream",
       "stream": "stdout",
       "text": [
        "                                                \r",
        "[===================           ]   3.125/4.717MB"
       ]
      },
      {
       "output_type": "stream",
       "stream": "stdout",
       "text": [
        "                                                \r",
        "[===================           ]   3.133/4.717MB"
       ]
      },
      {
       "output_type": "stream",
       "stream": "stdout",
       "text": [
        "                                                \r",
        "[===================           ]   3.141/4.717MB"
       ]
      },
      {
       "output_type": "stream",
       "stream": "stdout",
       "text": [
        "                                                \r",
        "[====================          ]   3.148/4.717MB"
       ]
      },
      {
       "output_type": "stream",
       "stream": "stdout",
       "text": [
        "                                                \r",
        "[====================          ]   3.156/4.717MB"
       ]
      },
      {
       "output_type": "stream",
       "stream": "stdout",
       "text": [
        "                                                \r",
        "[====================          ]   3.164/4.717MB"
       ]
      },
      {
       "output_type": "stream",
       "stream": "stdout",
       "text": [
        "                                                \r",
        "[====================          ]   3.172/4.717MB"
       ]
      },
      {
       "output_type": "stream",
       "stream": "stdout",
       "text": [
        "                                                \r",
        "[====================          ]   3.180/4.717MB"
       ]
      },
      {
       "output_type": "stream",
       "stream": "stdout",
       "text": [
        "                                                \r",
        "[====================          ]   3.188/4.717MB"
       ]
      },
      {
       "output_type": "stream",
       "stream": "stdout",
       "text": [
        "                                                \r",
        "[====================          ]   3.195/4.717MB"
       ]
      },
      {
       "output_type": "stream",
       "stream": "stdout",
       "text": [
        "                                                \r",
        "[====================          ]   3.203/4.717MB"
       ]
      },
      {
       "output_type": "stream",
       "stream": "stdout",
       "text": [
        "                                                \r",
        "[====================          ]   3.211/4.717MB"
       ]
      },
      {
       "output_type": "stream",
       "stream": "stdout",
       "text": [
        "                                                \r",
        "[====================          ]   3.219/4.717MB"
       ]
      },
      {
       "output_type": "stream",
       "stream": "stdout",
       "text": [
        "                                                \r",
        "[====================          ]   3.227/4.717MB"
       ]
      },
      {
       "output_type": "stream",
       "stream": "stdout",
       "text": [
        "                                                \r",
        "[====================          ]   3.234/4.717MB"
       ]
      },
      {
       "output_type": "stream",
       "stream": "stdout",
       "text": [
        "                                                \r",
        "[====================          ]   3.242/4.717MB"
       ]
      },
      {
       "output_type": "stream",
       "stream": "stdout",
       "text": [
        "                                                \r",
        "[====================          ]   3.250/4.717MB"
       ]
      },
      {
       "output_type": "stream",
       "stream": "stdout",
       "text": [
        "                                                \r",
        "[====================          ]   3.258/4.717MB"
       ]
      },
      {
       "output_type": "stream",
       "stream": "stdout",
       "text": [
        "                                                \r",
        "[====================          ]   3.266/4.717MB"
       ]
      },
      {
       "output_type": "stream",
       "stream": "stdout",
       "text": [
        "                                                \r",
        "[====================          ]   3.273/4.717MB"
       ]
      },
      {
       "output_type": "stream",
       "stream": "stdout",
       "text": [
        "                                                \r",
        "[====================          ]   3.281/4.717MB"
       ]
      },
      {
       "output_type": "stream",
       "stream": "stdout",
       "text": [
        "                                                \r",
        "[====================          ]   3.289/4.717MB"
       ]
      },
      {
       "output_type": "stream",
       "stream": "stdout",
       "text": [
        "                                                \r",
        "[====================          ]   3.297/4.717MB"
       ]
      },
      {
       "output_type": "stream",
       "stream": "stdout",
       "text": [
        "                                                \r",
        "[=====================         ]   3.305/4.717MB"
       ]
      },
      {
       "output_type": "stream",
       "stream": "stdout",
       "text": [
        "                                                \r",
        "[=====================         ]   3.312/4.717MB"
       ]
      },
      {
       "output_type": "stream",
       "stream": "stdout",
       "text": [
        "                                                \r",
        "[=====================         ]   3.320/4.717MB"
       ]
      },
      {
       "output_type": "stream",
       "stream": "stdout",
       "text": [
        "                                                \r",
        "[=====================         ]   3.328/4.717MB"
       ]
      },
      {
       "output_type": "stream",
       "stream": "stdout",
       "text": [
        "                                                \r",
        "[=====================         ]   3.336/4.717MB"
       ]
      },
      {
       "output_type": "stream",
       "stream": "stdout",
       "text": [
        "                                                \r",
        "[=====================         ]   3.344/4.717MB"
       ]
      },
      {
       "output_type": "stream",
       "stream": "stdout",
       "text": [
        "                                                \r",
        "[=====================         ]   3.352/4.717MB"
       ]
      },
      {
       "output_type": "stream",
       "stream": "stdout",
       "text": [
        "                                                \r",
        "[=====================         ]   3.359/4.717MB"
       ]
      },
      {
       "output_type": "stream",
       "stream": "stdout",
       "text": [
        "                                                \r",
        "[=====================         ]   3.367/4.717MB"
       ]
      },
      {
       "output_type": "stream",
       "stream": "stdout",
       "text": [
        "                                                \r",
        "[=====================         ]   3.375/4.717MB"
       ]
      },
      {
       "output_type": "stream",
       "stream": "stdout",
       "text": [
        "                                                \r",
        "[=====================         ]   3.383/4.717MB"
       ]
      },
      {
       "output_type": "stream",
       "stream": "stdout",
       "text": [
        "                                                \r",
        "[=====================         ]   3.391/4.717MB"
       ]
      },
      {
       "output_type": "stream",
       "stream": "stdout",
       "text": [
        "                                                \r",
        "[=====================         ]   3.398/4.717MB"
       ]
      },
      {
       "output_type": "stream",
       "stream": "stdout",
       "text": [
        "                                                \r",
        "[=====================         ]   3.406/4.717MB"
       ]
      },
      {
       "output_type": "stream",
       "stream": "stdout",
       "text": [
        "                                                \r",
        "[=====================         ]   3.414/4.717MB"
       ]
      },
      {
       "output_type": "stream",
       "stream": "stdout",
       "text": [
        "                                                \r",
        "[=====================         ]   3.422/4.717MB"
       ]
      },
      {
       "output_type": "stream",
       "stream": "stdout",
       "text": [
        "                                                \r",
        "[=====================         ]   3.430/4.717MB"
       ]
      },
      {
       "output_type": "stream",
       "stream": "stdout",
       "text": [
        "                                                \r",
        "[=====================         ]   3.438/4.717MB"
       ]
      },
      {
       "output_type": "stream",
       "stream": "stdout",
       "text": [
        "                                                \r",
        "[=====================         ]   3.445/4.717MB"
       ]
      },
      {
       "output_type": "stream",
       "stream": "stdout",
       "text": [
        "                                                \r",
        "[=====================         ]   3.453/4.717MB"
       ]
      },
      {
       "output_type": "stream",
       "stream": "stdout",
       "text": [
        "                                                \r",
        "[======================        ]   3.461/4.717MB"
       ]
      },
      {
       "output_type": "stream",
       "stream": "stdout",
       "text": [
        "                                                \r",
        "[======================        ]   3.469/4.717MB"
       ]
      },
      {
       "output_type": "stream",
       "stream": "stdout",
       "text": [
        "                                                \r",
        "[======================        ]   3.477/4.717MB"
       ]
      },
      {
       "output_type": "stream",
       "stream": "stdout",
       "text": [
        "                                                \r",
        "[======================        ]   3.484/4.717MB"
       ]
      },
      {
       "output_type": "stream",
       "stream": "stdout",
       "text": [
        "                                                \r",
        "[======================        ]   3.492/4.717MB"
       ]
      },
      {
       "output_type": "stream",
       "stream": "stdout",
       "text": [
        "                                                \r",
        "[======================        ]   3.500/4.717MB"
       ]
      },
      {
       "output_type": "stream",
       "stream": "stdout",
       "text": [
        "                                                \r",
        "[======================        ]   3.508/4.717MB"
       ]
      },
      {
       "output_type": "stream",
       "stream": "stdout",
       "text": [
        "                                                \r",
        "[======================        ]   3.516/4.717MB"
       ]
      },
      {
       "output_type": "stream",
       "stream": "stdout",
       "text": [
        "                                                \r",
        "[======================        ]   3.523/4.717MB"
       ]
      },
      {
       "output_type": "stream",
       "stream": "stdout",
       "text": [
        "                                                \r",
        "[======================        ]   3.531/4.717MB"
       ]
      },
      {
       "output_type": "stream",
       "stream": "stdout",
       "text": [
        "                                                \r",
        "[======================        ]   3.539/4.717MB"
       ]
      },
      {
       "output_type": "stream",
       "stream": "stdout",
       "text": [
        "                                                \r",
        "[======================        ]   3.547/4.717MB"
       ]
      },
      {
       "output_type": "stream",
       "stream": "stdout",
       "text": [
        "                                                \r",
        "[======================        ]   3.555/4.717MB"
       ]
      },
      {
       "output_type": "stream",
       "stream": "stdout",
       "text": [
        "                                                \r",
        "[======================        ]   3.562/4.717MB"
       ]
      },
      {
       "output_type": "stream",
       "stream": "stdout",
       "text": [
        "                                                \r",
        "[======================        ]   3.570/4.717MB"
       ]
      },
      {
       "output_type": "stream",
       "stream": "stdout",
       "text": [
        "                                                \r",
        "[======================        ]   3.578/4.717MB"
       ]
      },
      {
       "output_type": "stream",
       "stream": "stdout",
       "text": [
        "                                                \r",
        "[======================        ]   3.586/4.717MB"
       ]
      },
      {
       "output_type": "stream",
       "stream": "stdout",
       "text": [
        "                                                \r",
        "[======================        ]   3.594/4.717MB"
       ]
      },
      {
       "output_type": "stream",
       "stream": "stdout",
       "text": [
        "                                                \r",
        "[======================        ]   3.602/4.717MB"
       ]
      },
      {
       "output_type": "stream",
       "stream": "stdout",
       "text": [
        "                                                \r",
        "[======================        ]   3.609/4.717MB"
       ]
      },
      {
       "output_type": "stream",
       "stream": "stdout",
       "text": [
        "                                                \r",
        "[=======================       ]   3.617/4.717MB"
       ]
      },
      {
       "output_type": "stream",
       "stream": "stdout",
       "text": [
        "                                                \r",
        "[=======================       ]   3.625/4.717MB"
       ]
      },
      {
       "output_type": "stream",
       "stream": "stdout",
       "text": [
        "                                                \r",
        "[=======================       ]   3.633/4.717MB"
       ]
      },
      {
       "output_type": "stream",
       "stream": "stdout",
       "text": [
        "                                                \r",
        "[=======================       ]   3.641/4.717MB"
       ]
      },
      {
       "output_type": "stream",
       "stream": "stdout",
       "text": [
        "                                                \r",
        "[=======================       ]   3.648/4.717MB"
       ]
      },
      {
       "output_type": "stream",
       "stream": "stdout",
       "text": [
        "                                                \r",
        "[=======================       ]   3.656/4.717MB"
       ]
      },
      {
       "output_type": "stream",
       "stream": "stdout",
       "text": [
        "                                                \r",
        "[=======================       ]   3.664/4.717MB"
       ]
      },
      {
       "output_type": "stream",
       "stream": "stdout",
       "text": [
        "                                                \r",
        "[=======================       ]   3.672/4.717MB"
       ]
      },
      {
       "output_type": "stream",
       "stream": "stdout",
       "text": [
        "                                                \r",
        "[=======================       ]   3.680/4.717MB"
       ]
      },
      {
       "output_type": "stream",
       "stream": "stdout",
       "text": [
        "                                                \r",
        "[=======================       ]   3.688/4.717MB"
       ]
      },
      {
       "output_type": "stream",
       "stream": "stdout",
       "text": [
        "                                                \r",
        "[=======================       ]   3.695/4.717MB"
       ]
      },
      {
       "output_type": "stream",
       "stream": "stdout",
       "text": [
        "                                                \r",
        "[=======================       ]   3.703/4.717MB"
       ]
      },
      {
       "output_type": "stream",
       "stream": "stdout",
       "text": [
        "                                                \r",
        "[=======================       ]   3.711/4.717MB"
       ]
      },
      {
       "output_type": "stream",
       "stream": "stdout",
       "text": [
        "                                                \r",
        "[=======================       ]   3.719/4.717MB"
       ]
      },
      {
       "output_type": "stream",
       "stream": "stdout",
       "text": [
        "                                                \r",
        "[=======================       ]   3.727/4.717MB"
       ]
      },
      {
       "output_type": "stream",
       "stream": "stdout",
       "text": [
        "                                                \r",
        "[=======================       ]   3.734/4.717MB"
       ]
      },
      {
       "output_type": "stream",
       "stream": "stdout",
       "text": [
        "                                                \r",
        "[=======================       ]   3.742/4.717MB"
       ]
      },
      {
       "output_type": "stream",
       "stream": "stdout",
       "text": [
        "                                                \r",
        "[=======================       ]   3.750/4.717MB"
       ]
      },
      {
       "output_type": "stream",
       "stream": "stdout",
       "text": [
        "                                                \r",
        "[=======================       ]   3.758/4.717MB"
       ]
      },
      {
       "output_type": "stream",
       "stream": "stdout",
       "text": [
        "                                                \r",
        "[=======================       ]   3.766/4.717MB"
       ]
      },
      {
       "output_type": "stream",
       "stream": "stdout",
       "text": [
        "                                                \r",
        "[========================      ]   3.773/4.717MB"
       ]
      },
      {
       "output_type": "stream",
       "stream": "stdout",
       "text": [
        "                                                \r",
        "[========================      ]   3.781/4.717MB"
       ]
      },
      {
       "output_type": "stream",
       "stream": "stdout",
       "text": [
        "                                                \r",
        "[========================      ]   3.789/4.717MB"
       ]
      },
      {
       "output_type": "stream",
       "stream": "stdout",
       "text": [
        "                                                \r",
        "[========================      ]   3.797/4.717MB"
       ]
      },
      {
       "output_type": "stream",
       "stream": "stdout",
       "text": [
        "                                                \r",
        "[========================      ]   3.805/4.717MB"
       ]
      },
      {
       "output_type": "stream",
       "stream": "stdout",
       "text": [
        "                                                \r",
        "[========================      ]   3.812/4.717MB"
       ]
      },
      {
       "output_type": "stream",
       "stream": "stdout",
       "text": [
        "                                                \r",
        "[========================      ]   3.820/4.717MB"
       ]
      },
      {
       "output_type": "stream",
       "stream": "stdout",
       "text": [
        "                                                \r",
        "[========================      ]   3.828/4.717MB"
       ]
      },
      {
       "output_type": "stream",
       "stream": "stdout",
       "text": [
        "                                                \r",
        "[========================      ]   3.836/4.717MB"
       ]
      },
      {
       "output_type": "stream",
       "stream": "stdout",
       "text": [
        "                                                \r",
        "[========================      ]   3.844/4.717MB"
       ]
      },
      {
       "output_type": "stream",
       "stream": "stdout",
       "text": [
        "                                                \r",
        "[========================      ]   3.852/4.717MB"
       ]
      },
      {
       "output_type": "stream",
       "stream": "stdout",
       "text": [
        "                                                \r",
        "[========================      ]   3.859/4.717MB"
       ]
      },
      {
       "output_type": "stream",
       "stream": "stdout",
       "text": [
        "                                                \r",
        "[========================      ]   3.867/4.717MB"
       ]
      },
      {
       "output_type": "stream",
       "stream": "stdout",
       "text": [
        "                                                \r",
        "[========================      ]   3.875/4.717MB"
       ]
      },
      {
       "output_type": "stream",
       "stream": "stdout",
       "text": [
        "                                                \r",
        "[========================      ]   3.883/4.717MB"
       ]
      },
      {
       "output_type": "stream",
       "stream": "stdout",
       "text": [
        "                                                \r",
        "[========================      ]   3.891/4.717MB"
       ]
      },
      {
       "output_type": "stream",
       "stream": "stdout",
       "text": [
        "                                                \r",
        "[========================      ]   3.898/4.717MB"
       ]
      },
      {
       "output_type": "stream",
       "stream": "stdout",
       "text": [
        "                                                \r",
        "[========================      ]   3.906/4.717MB"
       ]
      },
      {
       "output_type": "stream",
       "stream": "stdout",
       "text": [
        "                                                \r",
        "[========================      ]   3.914/4.717MB"
       ]
      },
      {
       "output_type": "stream",
       "stream": "stdout",
       "text": [
        "                                                \r",
        "[========================      ]   3.922/4.717MB"
       ]
      },
      {
       "output_type": "stream",
       "stream": "stdout",
       "text": [
        "                                                \r",
        "[========================      ]   3.930/4.717MB"
       ]
      },
      {
       "output_type": "stream",
       "stream": "stdout",
       "text": [
        "                                                \r",
        "[=========================     ]   3.938/4.717MB"
       ]
      },
      {
       "output_type": "stream",
       "stream": "stdout",
       "text": [
        "                                                \r",
        "[=========================     ]   3.945/4.717MB"
       ]
      },
      {
       "output_type": "stream",
       "stream": "stdout",
       "text": [
        "                                                \r",
        "[=========================     ]   3.953/4.717MB"
       ]
      },
      {
       "output_type": "stream",
       "stream": "stdout",
       "text": [
        "                                                \r",
        "[=========================     ]   3.961/4.717MB"
       ]
      },
      {
       "output_type": "stream",
       "stream": "stdout",
       "text": [
        "                                                \r",
        "[=========================     ]   3.969/4.717MB"
       ]
      },
      {
       "output_type": "stream",
       "stream": "stdout",
       "text": [
        "                                                \r",
        "[=========================     ]   3.977/4.717MB"
       ]
      },
      {
       "output_type": "stream",
       "stream": "stdout",
       "text": [
        "                                                \r",
        "[=========================     ]   3.984/4.717MB"
       ]
      },
      {
       "output_type": "stream",
       "stream": "stdout",
       "text": [
        "                                                \r",
        "[=========================     ]   3.992/4.717MB"
       ]
      },
      {
       "output_type": "stream",
       "stream": "stdout",
       "text": [
        "                                                \r",
        "[=========================     ]   4.000/4.717MB"
       ]
      },
      {
       "output_type": "stream",
       "stream": "stdout",
       "text": [
        "                                                \r",
        "[=========================     ]   4.008/4.717MB"
       ]
      },
      {
       "output_type": "stream",
       "stream": "stdout",
       "text": [
        "                                                \r",
        "[=========================     ]   4.016/4.717MB"
       ]
      },
      {
       "output_type": "stream",
       "stream": "stdout",
       "text": [
        "                                                \r",
        "[=========================     ]   4.023/4.717MB"
       ]
      },
      {
       "output_type": "stream",
       "stream": "stdout",
       "text": [
        "                                                \r",
        "[=========================     ]   4.031/4.717MB"
       ]
      },
      {
       "output_type": "stream",
       "stream": "stdout",
       "text": [
        "                                                \r",
        "[=========================     ]   4.039/4.717MB"
       ]
      },
      {
       "output_type": "stream",
       "stream": "stdout",
       "text": [
        "                                                \r",
        "[=========================     ]   4.047/4.717MB"
       ]
      },
      {
       "output_type": "stream",
       "stream": "stdout",
       "text": [
        "                                                \r",
        "[=========================     ]   4.055/4.717MB"
       ]
      },
      {
       "output_type": "stream",
       "stream": "stdout",
       "text": [
        "                                                \r",
        "[=========================     ]   4.062/4.717MB"
       ]
      },
      {
       "output_type": "stream",
       "stream": "stdout",
       "text": [
        "                                                \r",
        "[=========================     ]   4.070/4.717MB"
       ]
      },
      {
       "output_type": "stream",
       "stream": "stdout",
       "text": [
        "                                                \r",
        "[=========================     ]   4.078/4.717MB"
       ]
      },
      {
       "output_type": "stream",
       "stream": "stdout",
       "text": [
        "                                                \r",
        "[=========================     ]   4.086/4.717MB"
       ]
      },
      {
       "output_type": "stream",
       "stream": "stdout",
       "text": [
        "                                                \r",
        "[==========================    ]   4.094/4.717MB"
       ]
      },
      {
       "output_type": "stream",
       "stream": "stdout",
       "text": [
        "                                                \r",
        "[==========================    ]   4.102/4.717MB"
       ]
      },
      {
       "output_type": "stream",
       "stream": "stdout",
       "text": [
        "                                                \r",
        "[==========================    ]   4.109/4.717MB"
       ]
      },
      {
       "output_type": "stream",
       "stream": "stdout",
       "text": [
        "                                                \r",
        "[==========================    ]   4.117/4.717MB"
       ]
      },
      {
       "output_type": "stream",
       "stream": "stdout",
       "text": [
        "                                                \r",
        "[==========================    ]   4.125/4.717MB"
       ]
      },
      {
       "output_type": "stream",
       "stream": "stdout",
       "text": [
        "                                                \r",
        "[==========================    ]   4.133/4.717MB"
       ]
      },
      {
       "output_type": "stream",
       "stream": "stdout",
       "text": [
        "                                                \r",
        "[==========================    ]   4.141/4.717MB"
       ]
      },
      {
       "output_type": "stream",
       "stream": "stdout",
       "text": [
        "                                                \r",
        "[==========================    ]   4.148/4.717MB"
       ]
      },
      {
       "output_type": "stream",
       "stream": "stdout",
       "text": [
        "                                                \r",
        "[==========================    ]   4.156/4.717MB"
       ]
      },
      {
       "output_type": "stream",
       "stream": "stdout",
       "text": [
        "                                                \r",
        "[==========================    ]   4.164/4.717MB"
       ]
      },
      {
       "output_type": "stream",
       "stream": "stdout",
       "text": [
        "                                                \r",
        "[==========================    ]   4.172/4.717MB"
       ]
      },
      {
       "output_type": "stream",
       "stream": "stdout",
       "text": [
        "                                                \r",
        "[==========================    ]   4.180/4.717MB"
       ]
      },
      {
       "output_type": "stream",
       "stream": "stdout",
       "text": [
        "                                                \r",
        "[==========================    ]   4.188/4.717MB"
       ]
      },
      {
       "output_type": "stream",
       "stream": "stdout",
       "text": [
        "                                                \r",
        "[==========================    ]   4.195/4.717MB"
       ]
      },
      {
       "output_type": "stream",
       "stream": "stdout",
       "text": [
        "                                                \r",
        "[==========================    ]   4.203/4.717MB"
       ]
      },
      {
       "output_type": "stream",
       "stream": "stdout",
       "text": [
        "                                                \r",
        "[==========================    ]   4.211/4.717MB"
       ]
      },
      {
       "output_type": "stream",
       "stream": "stdout",
       "text": [
        "                                                \r",
        "[==========================    ]   4.219/4.717MB"
       ]
      },
      {
       "output_type": "stream",
       "stream": "stdout",
       "text": [
        "                                                \r",
        "[==========================    ]   4.227/4.717MB"
       ]
      },
      {
       "output_type": "stream",
       "stream": "stdout",
       "text": [
        "                                                \r",
        "[==========================    ]   4.234/4.717MB"
       ]
      },
      {
       "output_type": "stream",
       "stream": "stdout",
       "text": [
        "                                                \r",
        "[==========================    ]   4.242/4.717MB"
       ]
      },
      {
       "output_type": "stream",
       "stream": "stdout",
       "text": [
        "                                                \r",
        "[===========================   ]   4.250/4.717MB"
       ]
      },
      {
       "output_type": "stream",
       "stream": "stdout",
       "text": [
        "                                                \r",
        "[===========================   ]   4.258/4.717MB"
       ]
      },
      {
       "output_type": "stream",
       "stream": "stdout",
       "text": [
        "                                                \r",
        "[===========================   ]   4.266/4.717MB"
       ]
      },
      {
       "output_type": "stream",
       "stream": "stdout",
       "text": [
        "                                                \r",
        "[===========================   ]   4.273/4.717MB"
       ]
      },
      {
       "output_type": "stream",
       "stream": "stdout",
       "text": [
        "                                                \r",
        "[===========================   ]   4.281/4.717MB"
       ]
      },
      {
       "output_type": "stream",
       "stream": "stdout",
       "text": [
        "                                                \r",
        "[===========================   ]   4.289/4.717MB"
       ]
      },
      {
       "output_type": "stream",
       "stream": "stdout",
       "text": [
        "                                                \r",
        "[===========================   ]   4.297/4.717MB"
       ]
      },
      {
       "output_type": "stream",
       "stream": "stdout",
       "text": [
        "                                                \r",
        "[===========================   ]   4.305/4.717MB"
       ]
      },
      {
       "output_type": "stream",
       "stream": "stdout",
       "text": [
        "                                                \r",
        "[===========================   ]   4.312/4.717MB"
       ]
      },
      {
       "output_type": "stream",
       "stream": "stdout",
       "text": [
        "                                                \r",
        "[===========================   ]   4.320/4.717MB"
       ]
      },
      {
       "output_type": "stream",
       "stream": "stdout",
       "text": [
        "                                                \r",
        "[===========================   ]   4.328/4.717MB"
       ]
      },
      {
       "output_type": "stream",
       "stream": "stdout",
       "text": [
        "                                                \r",
        "[===========================   ]   4.336/4.717MB"
       ]
      },
      {
       "output_type": "stream",
       "stream": "stdout",
       "text": [
        "                                                \r",
        "[===========================   ]   4.344/4.717MB"
       ]
      },
      {
       "output_type": "stream",
       "stream": "stdout",
       "text": [
        "                                                \r",
        "[===========================   ]   4.352/4.717MB"
       ]
      },
      {
       "output_type": "stream",
       "stream": "stdout",
       "text": [
        "                                                \r",
        "[===========================   ]   4.359/4.717MB"
       ]
      },
      {
       "output_type": "stream",
       "stream": "stdout",
       "text": [
        "                                                \r",
        "[===========================   ]   4.367/4.717MB"
       ]
      },
      {
       "output_type": "stream",
       "stream": "stdout",
       "text": [
        "                                                \r",
        "[===========================   ]   4.375/4.717MB"
       ]
      },
      {
       "output_type": "stream",
       "stream": "stdout",
       "text": [
        "                                                \r",
        "[===========================   ]   4.383/4.717MB"
       ]
      },
      {
       "output_type": "stream",
       "stream": "stdout",
       "text": [
        "                                                \r",
        "[===========================   ]   4.391/4.717MB"
       ]
      },
      {
       "output_type": "stream",
       "stream": "stdout",
       "text": [
        "                                                \r",
        "[===========================   ]   4.398/4.717MB"
       ]
      },
      {
       "output_type": "stream",
       "stream": "stdout",
       "text": [
        "                                                \r",
        "[============================  ]   4.406/4.717MB"
       ]
      },
      {
       "output_type": "stream",
       "stream": "stdout",
       "text": [
        "                                                \r",
        "[============================  ]   4.414/4.717MB"
       ]
      },
      {
       "output_type": "stream",
       "stream": "stdout",
       "text": [
        "                                                \r",
        "[============================  ]   4.422/4.717MB"
       ]
      },
      {
       "output_type": "stream",
       "stream": "stdout",
       "text": [
        "                                                \r",
        "[============================  ]   4.430/4.717MB"
       ]
      },
      {
       "output_type": "stream",
       "stream": "stdout",
       "text": [
        "                                                \r",
        "[============================  ]   4.438/4.717MB"
       ]
      },
      {
       "output_type": "stream",
       "stream": "stdout",
       "text": [
        "                                                \r",
        "[============================  ]   4.445/4.717MB"
       ]
      },
      {
       "output_type": "stream",
       "stream": "stdout",
       "text": [
        "                                                \r",
        "[============================  ]   4.453/4.717MB"
       ]
      },
      {
       "output_type": "stream",
       "stream": "stdout",
       "text": [
        "                                                \r",
        "[============================  ]   4.461/4.717MB"
       ]
      },
      {
       "output_type": "stream",
       "stream": "stdout",
       "text": [
        "                                                \r",
        "[============================  ]   4.469/4.717MB"
       ]
      },
      {
       "output_type": "stream",
       "stream": "stdout",
       "text": [
        "                                                \r",
        "[============================  ]   4.477/4.717MB"
       ]
      },
      {
       "output_type": "stream",
       "stream": "stdout",
       "text": [
        "                                                \r",
        "[============================  ]   4.484/4.717MB"
       ]
      },
      {
       "output_type": "stream",
       "stream": "stdout",
       "text": [
        "                                                \r",
        "[============================  ]   4.492/4.717MB"
       ]
      },
      {
       "output_type": "stream",
       "stream": "stdout",
       "text": [
        "                                                \r",
        "[============================  ]   4.500/4.717MB"
       ]
      },
      {
       "output_type": "stream",
       "stream": "stdout",
       "text": [
        "                                                \r",
        "[============================  ]   4.508/4.717MB"
       ]
      },
      {
       "output_type": "stream",
       "stream": "stdout",
       "text": [
        "                                                \r",
        "[============================  ]   4.516/4.717MB"
       ]
      },
      {
       "output_type": "stream",
       "stream": "stdout",
       "text": [
        "                                                \r",
        "[============================  ]   4.523/4.717MB"
       ]
      },
      {
       "output_type": "stream",
       "stream": "stdout",
       "text": [
        "                                                \r",
        "[============================  ]   4.531/4.717MB"
       ]
      },
      {
       "output_type": "stream",
       "stream": "stdout",
       "text": [
        "                                                \r",
        "[============================  ]   4.539/4.717MB"
       ]
      },
      {
       "output_type": "stream",
       "stream": "stdout",
       "text": [
        "                                                \r",
        "[============================  ]   4.547/4.717MB"
       ]
      },
      {
       "output_type": "stream",
       "stream": "stdout",
       "text": [
        "                                                \r",
        "[============================  ]   4.555/4.717MB"
       ]
      },
      {
       "output_type": "stream",
       "stream": "stdout",
       "text": [
        "                                                \r",
        "[============================= ]   4.562/4.717MB"
       ]
      },
      {
       "output_type": "stream",
       "stream": "stdout",
       "text": [
        "                                                \r",
        "[============================= ]   4.570/4.717MB"
       ]
      },
      {
       "output_type": "stream",
       "stream": "stdout",
       "text": [
        "                                                \r",
        "[============================= ]   4.578/4.717MB"
       ]
      },
      {
       "output_type": "stream",
       "stream": "stdout",
       "text": [
        "                                                \r",
        "[============================= ]   4.586/4.717MB"
       ]
      },
      {
       "output_type": "stream",
       "stream": "stdout",
       "text": [
        "                                                \r",
        "[============================= ]   4.594/4.717MB"
       ]
      },
      {
       "output_type": "stream",
       "stream": "stdout",
       "text": [
        "                                                \r",
        "[============================= ]   4.602/4.717MB"
       ]
      },
      {
       "output_type": "stream",
       "stream": "stdout",
       "text": [
        "                                                \r",
        "[============================= ]   4.609/4.717MB"
       ]
      },
      {
       "output_type": "stream",
       "stream": "stdout",
       "text": [
        "                                                \r",
        "[============================= ]   4.617/4.717MB"
       ]
      },
      {
       "output_type": "stream",
       "stream": "stdout",
       "text": [
        "                                                \r",
        "[============================= ]   4.625/4.717MB"
       ]
      },
      {
       "output_type": "stream",
       "stream": "stdout",
       "text": [
        "                                                \r",
        "[============================= ]   4.633/4.717MB"
       ]
      },
      {
       "output_type": "stream",
       "stream": "stdout",
       "text": [
        "                                                \r",
        "[============================= ]   4.641/4.717MB"
       ]
      },
      {
       "output_type": "stream",
       "stream": "stdout",
       "text": [
        "                                                \r",
        "[============================= ]   4.648/4.717MB"
       ]
      },
      {
       "output_type": "stream",
       "stream": "stdout",
       "text": [
        "                                                \r",
        "[============================= ]   4.656/4.717MB"
       ]
      },
      {
       "output_type": "stream",
       "stream": "stdout",
       "text": [
        "                                                \r",
        "[============================= ]   4.664/4.717MB"
       ]
      },
      {
       "output_type": "stream",
       "stream": "stdout",
       "text": [
        "                                                \r",
        "[============================= ]   4.672/4.717MB"
       ]
      },
      {
       "output_type": "stream",
       "stream": "stdout",
       "text": [
        "                                                \r",
        "[============================= ]   4.680/4.717MB"
       ]
      },
      {
       "output_type": "stream",
       "stream": "stdout",
       "text": [
        "                                                \r",
        "[============================= ]   4.688/4.717MB"
       ]
      },
      {
       "output_type": "stream",
       "stream": "stdout",
       "text": [
        "                                                \r",
        "[============================= ]   4.695/4.717MB"
       ]
      },
      {
       "output_type": "stream",
       "stream": "stdout",
       "text": [
        "                                                \r",
        "[============================= ]   4.703/4.717MB"
       ]
      },
      {
       "output_type": "stream",
       "stream": "stdout",
       "text": [
        "                                                \r",
        "[============================= ]   4.711/4.717MB"
       ]
      },
      {
       "output_type": "stream",
       "stream": "stdout",
       "text": [
        "                                                \r",
        "[==============================]   4.717/4.717MB"
       ]
      },
      {
       "output_type": "stream",
       "stream": "stdout",
       "text": [
        "                                                \r",
        "[==============================]   4.717/4.717MB\n",
        "ml-100k-README.txt\n",
        "Downloading  http://files.grouplens.org/datasets/movielens/ml-100k-README.txt -> /Users/neil/ods_data_cache/movielens100k/ml-100k-README.txt\n",
        "\r"
       ]
      },
      {
       "output_type": "stream",
       "stream": "stdout",
       "text": [
        "[==============================]   0.006/0.006MB"
       ]
      },
      {
       "output_type": "stream",
       "stream": "stdout",
       "text": [
        "                                                \r",
        "[==============================]   0.006/0.006MB\n"
       ]
      },
      {
       "html": [
        "<div style=\"max-height:1000px;max-width:1500px;overflow:auto;\">\n",
        "<table border=\"1\" class=\"dataframe\">\n",
        "  <thead>\n",
        "    <tr style=\"text-align: right;\">\n",
        "      <th></th>\n",
        "      <th>user</th>\n",
        "      <th>item</th>\n",
        "      <th>rating</th>\n",
        "    </tr>\n",
        "  </thead>\n",
        "  <tbody>\n",
        "    <tr>\n",
        "      <th>count</th>\n",
        "      <td> 700000.000000</td>\n",
        "      <td> 700000.000000</td>\n",
        "      <td> 700000.000000</td>\n",
        "    </tr>\n",
        "    <tr>\n",
        "      <th>mean</th>\n",
        "      <td>    462.484750</td>\n",
        "      <td>    425.530130</td>\n",
        "      <td>      3.529860</td>\n",
        "    </tr>\n",
        "    <tr>\n",
        "      <th>std</th>\n",
        "      <td>    266.613277</td>\n",
        "      <td>    330.796939</td>\n",
        "      <td>      1.125669</td>\n",
        "    </tr>\n",
        "    <tr>\n",
        "      <th>min</th>\n",
        "      <td>      1.000000</td>\n",
        "      <td>      1.000000</td>\n",
        "      <td>      1.000000</td>\n",
        "    </tr>\n",
        "    <tr>\n",
        "      <th>25%</th>\n",
        "      <td>    254.000000</td>\n",
        "      <td>    175.000000</td>\n",
        "      <td>      3.000000</td>\n",
        "    </tr>\n",
        "    <tr>\n",
        "      <th>50%</th>\n",
        "      <td>    447.000000</td>\n",
        "      <td>    322.000000</td>\n",
        "      <td>      4.000000</td>\n",
        "    </tr>\n",
        "    <tr>\n",
        "      <th>75%</th>\n",
        "      <td>    682.000000</td>\n",
        "      <td>    631.000000</td>\n",
        "      <td>      4.000000</td>\n",
        "    </tr>\n",
        "    <tr>\n",
        "      <th>max</th>\n",
        "      <td>    943.000000</td>\n",
        "      <td>   1682.000000</td>\n",
        "      <td>      5.000000</td>\n",
        "    </tr>\n",
        "  </tbody>\n",
        "</table>\n",
        "</div>"
       ],
       "metadata": {},
       "output_type": "pyout",
       "prompt_number": 13,
       "text": [
        "                user           item         rating\n",
        "count  700000.000000  700000.000000  700000.000000\n",
        "mean      462.484750     425.530130       3.529860\n",
        "std       266.613277     330.796939       1.125669\n",
        "min         1.000000       1.000000       1.000000\n",
        "25%       254.000000     175.000000       3.000000\n",
        "50%       447.000000     322.000000       4.000000\n",
        "75%       682.000000     631.000000       4.000000\n",
        "max       943.000000    1682.000000       5.000000"
       ]
      }
     ],
     "prompt_number": 13
    },
    {
     "cell_type": "markdown",
     "metadata": {},
     "source": [
      "Can you do stochastic gradient descent on this data and make the movie map? Try writing your code below. Don't get frustrated, it's asking a lot to manage this, but if you get here during the lab session you can ask for help!"
     ]
    },
    {
     "cell_type": "code",
     "collapsed": false,
     "input": [],
     "language": "python",
     "metadata": {},
     "outputs": []
    },
    {
     "cell_type": "markdown",
     "metadata": {},
     "source": [
      "## Doing this at Home\n",
      "\n",
      "The great thing about data science is that there is nothing *special* about the University environment. All the tools we have used here are freely available, which means you can do all this at *home*! There are some web pages that help on installing python or there are some commercial packages which pull everything together for you [Enthought Canopy](https://www.enthought.com/products/canopy/) and [Anaconda](https://store.continuum.io/cshop/anaconda/). "
     ]
    }
   ],
   "metadata": {}
  }
 ]
}